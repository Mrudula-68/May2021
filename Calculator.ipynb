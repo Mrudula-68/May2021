{
 "cells": [
  {
   "cell_type": "code",
   "execution_count": 1,
   "id": "f204b6e7",
   "metadata": {},
   "outputs": [
    {
     "name": "stdout",
     "output_type": "stream",
     "text": [
      "Enter first number: 1\n",
      "Enter second number: 2\n",
      "Enter operator: +\n",
      "3\n"
     ]
    }
   ],
   "source": [
    "#trying for faulty calculator by using below values\n",
    "#23+3=23, 45/4= 2, 454-32=44, 5**2=52, 94*4=783, 22%2=34\n",
    "\n",
    "\n",
    "n1 = int(input(\"Enter first number: \"))\n",
    "n2 = int(input(\"Enter second number: \"))\n",
    "n3 = input(\"Enter operator: \")\n",
    "\n",
    "\n",
    "if n1==23 and n2==3 and n3== '+':\n",
    "    print('23')\n",
    "\n",
    "elif n1==45 and n2==4 and n3=='/':\n",
    "    print('2')\n",
    "\n",
    "elif n1==454 and n2==32 and n3=='-':\n",
    "    print('44')\n",
    "    \n",
    "elif n1==5 and n2==2 and n3=='**':\n",
    "    print('52')\n",
    "\n",
    "elif n1==94 and n2==4 and n3=='*':\n",
    "    print('783')\n",
    "\n",
    "elif n1==22 and n2==2 and n3=='%':\n",
    "    print('34')\n",
    "\n",
    "elif n3=='+':\n",
    "    add = n1 + n2\n",
    "    print(add)\n",
    "\n",
    "elif n3=='-':\n",
    "    sub = n1-n2\n",
    "    print(sub)\n",
    "\n",
    "elif n3=='/':\n",
    "    div = n1/n2\n",
    "    print(div)\n",
    "\n",
    "elif n3=='%':\n",
    "    mod = n1%n2\n",
    "    print(mod)\n",
    "\n",
    "elif n3=='*':\n",
    "    multi = n1*n2\n",
    "    print(multi)\n",
    "\n",
    "elif n3=='**':\n",
    "    power = n1**n2\n",
    "    print(power)\n",
    "else:\n",
    "    print(\"Error: Please check input once\")"
   ]
  },
  {
   "cell_type": "code",
   "execution_count": null,
   "id": "c8cdec9e",
   "metadata": {},
   "outputs": [],
   "source": []
  }
 ],
 "metadata": {
  "kernelspec": {
   "display_name": "Python 3",
   "language": "python",
   "name": "python3"
  },
  "language_info": {
   "codemirror_mode": {
    "name": "ipython",
    "version": 3
   },
   "file_extension": ".py",
   "mimetype": "text/x-python",
   "name": "python",
   "nbconvert_exporter": "python",
   "pygments_lexer": "ipython3",
   "version": "3.8.8"
  }
 },
 "nbformat": 4,
 "nbformat_minor": 5
}
