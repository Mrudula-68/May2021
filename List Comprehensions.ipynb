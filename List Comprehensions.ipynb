{
 "cells": [
  {
   "cell_type": "code",
   "execution_count": 1,
   "id": "e65162b8",
   "metadata": {},
   "outputs": [],
   "source": [
    "#List Comprehensions\n",
    "#In addition to sequence operations and list methods, python includes a more advanced operation called comprehension\n",
    "#It is just another way of creating a list"
   ]
  },
  {
   "cell_type": "code",
   "execution_count": 2,
   "id": "4d2e4600",
   "metadata": {},
   "outputs": [],
   "source": [
    "# Syntax\n",
    "\n",
    "# my_list = [item for item in sequence]"
   ]
  },
  {
   "cell_type": "code",
   "execution_count": 3,
   "id": "e3b560bd",
   "metadata": {},
   "outputs": [
    {
     "name": "stdout",
     "output_type": "stream",
     "text": [
      "['p', 'y', 't', 'h', 'o', 'n', 'p', 'r', 'o', 'g', 'r', 'a', 'm', 'm', 'i', 'n', 'g']\n"
     ]
    }
   ],
   "source": [
    "# Examples\n",
    "# To convert a string to list of characters\n",
    "# pythonprogramming\n",
    "\n",
    "x = 'pythonprogramming'\n",
    "\n",
    "x_list = [] # step 1 creating an empty to store each element\n",
    "\n",
    "for letter in x: #step 2 is to run a for loop on the string to loop over each letter\n",
    "    x_list.append(letter)\n",
    "    \n",
    "print(x_list)"
   ]
  },
  {
   "cell_type": "code",
   "execution_count": 4,
   "id": "8bc94a0a",
   "metadata": {},
   "outputs": [
    {
     "name": "stdout",
     "output_type": "stream",
     "text": [
      "['p', 'y', 't', 'h', 'o', 'n', 'p', 'r', 'o', 'g', 'r', 'a', 'm', 'm', 'i', 'n', 'g']\n"
     ]
    }
   ],
   "source": [
    "# Using list comprehension\n",
    "\n",
    "x_list = [letter for letter in x]\n",
    "print(x_list)"
   ]
  },
  {
   "cell_type": "code",
   "execution_count": 5,
   "id": "c5949e67",
   "metadata": {},
   "outputs": [
    {
     "name": "stdout",
     "output_type": "stream",
     "text": [
      "[0, 1, 4, 9, 16, 25, 36, 49, 64, 81, 100]\n"
     ]
    }
   ],
   "source": [
    "# Example 2\n",
    "# create a list which contains the square of 0 to 10\n",
    "# without list comprehension\n",
    "\n",
    "list1 = []\n",
    "\n",
    "for i in range(11):\n",
    "    list1.append(i**2)\n",
    "    \n",
    "print(list1)"
   ]
  },
  {
   "cell_type": "code",
   "execution_count": 6,
   "id": "498cf309",
   "metadata": {},
   "outputs": [
    {
     "name": "stdout",
     "output_type": "stream",
     "text": [
      "[0, 1, 4, 9, 16, 25, 36, 49, 64, 81, 100]\n"
     ]
    }
   ],
   "source": [
    "# using list comprehension\n",
    "\n",
    "list1 = [i**2 for i in range(11)]\n",
    "print(list1)"
   ]
  },
  {
   "cell_type": "code",
   "execution_count": 7,
   "id": "7491d072",
   "metadata": {},
   "outputs": [],
   "source": [
    "# Example 3 # we want all the even numbers\n",
    "#will use if statement\n",
    "\n",
    "list2 = []\n",
    "\n",
    "for i in range(11):\n",
    "    if(i%2 == 0):\n",
    "        list2.append(i)"
   ]
  },
  {
   "cell_type": "code",
   "execution_count": 8,
   "id": "404b5e74",
   "metadata": {},
   "outputs": [
    {
     "name": "stdout",
     "output_type": "stream",
     "text": [
      "[0, 2, 4, 6, 8, 10]\n"
     ]
    }
   ],
   "source": [
    "print(list2)"
   ]
  },
  {
   "cell_type": "code",
   "execution_count": 9,
   "id": "cabec753",
   "metadata": {},
   "outputs": [
    {
     "name": "stdout",
     "output_type": "stream",
     "text": [
      "[0, 2, 4, 6, 8, 10]\n"
     ]
    }
   ],
   "source": [
    "# checking for even numbers using list comprehension\n",
    "\n",
    "list2 = [i for i in range(11) if (i%2 == 0)]\n",
    "print(list2)"
   ]
  },
  {
   "cell_type": "code",
   "execution_count": 10,
   "id": "f125a9fc",
   "metadata": {},
   "outputs": [
    {
     "name": "stdout",
     "output_type": "stream",
     "text": [
      "[1000, 2000, 3000, 4000, 5000]\n"
     ]
    }
   ],
   "source": [
    "# Example 4\n",
    "\n",
    "# convert kms to meters\n",
    "#1km = 1000m \n",
    "\n",
    "km_list =[1,2,3,4,5]\n",
    "\n",
    "m_list = []\n",
    "\n",
    "for i in km_list:\n",
    "    m_list.append(i*1000)\n",
    "    \n",
    "print(m_list)"
   ]
  },
  {
   "cell_type": "code",
   "execution_count": 11,
   "id": "123393e7",
   "metadata": {},
   "outputs": [],
   "source": [
    "# using list comprehension\n",
    "\n",
    "m_list = [i*1000 for i in range(1,5)]"
   ]
  },
  {
   "cell_type": "code",
   "execution_count": 12,
   "id": "869dc99a",
   "metadata": {},
   "outputs": [
    {
     "name": "stdout",
     "output_type": "stream",
     "text": [
      "[1000, 2000, 3000, 4000]\n"
     ]
    }
   ],
   "source": [
    "print(m_list)"
   ]
  },
  {
   "cell_type": "code",
   "execution_count": null,
   "id": "bd348958",
   "metadata": {},
   "outputs": [],
   "source": [
    "# Task \n",
    "# To  build a list using list comprehension where the data you have should be stored in tuples or sets\n",
    "# To define a logic for palidrome string and also to remove special characters if any are present"
   ]
  }
 ],
 "metadata": {
  "kernelspec": {
   "display_name": "Python 3",
   "language": "python",
   "name": "python3"
  },
  "language_info": {
   "codemirror_mode": {
    "name": "ipython",
    "version": 3
   },
   "file_extension": ".py",
   "mimetype": "text/x-python",
   "name": "python",
   "nbconvert_exporter": "python",
   "pygments_lexer": "ipython3",
   "version": "3.8.8"
  }
 },
 "nbformat": 4,
 "nbformat_minor": 5
}
