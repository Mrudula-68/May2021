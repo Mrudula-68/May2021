{
 "cells": [
  {
   "cell_type": "code",
   "execution_count": 1,
   "id": "ecef86ef",
   "metadata": {},
   "outputs": [],
   "source": [
    "#Functions\n",
    "#Functions are the blocks of reusable code that will execute only when it is called"
   ]
  },
  {
   "cell_type": "code",
   "execution_count": 2,
   "id": "70ec6af5",
   "metadata": {},
   "outputs": [
    {
     "data": {
      "text/plain": [
       "'\\ndef function_name():\\n    statement1\\n    statement2\\n    .....\\n    .....\\n    \\n    statement n\\n'"
      ]
     },
     "execution_count": 2,
     "metadata": {},
     "output_type": "execute_result"
    }
   ],
   "source": [
    "# Syntax\n",
    "\n",
    "\n",
    "\"\"\"\n",
    "def function_name():\n",
    "    statement1\n",
    "    statement2\n",
    "    .....\n",
    "    .....\n",
    "    \n",
    "    statement n\n",
    "\"\"\""
   ]
  },
  {
   "cell_type": "code",
   "execution_count": 3,
   "id": "a533ac1f",
   "metadata": {},
   "outputs": [],
   "source": [
    "a = 2\n",
    "c = 10\n",
    "d = 30"
   ]
  },
  {
   "cell_type": "code",
   "execution_count": 4,
   "id": "45f90b33",
   "metadata": {},
   "outputs": [],
   "source": [
    "a  = c+d"
   ]
  },
  {
   "cell_type": "code",
   "execution_count": 5,
   "id": "884ee3a1",
   "metadata": {},
   "outputs": [
    {
     "data": {
      "text/plain": [
       "int"
      ]
     },
     "execution_count": 5,
     "metadata": {},
     "output_type": "execute_result"
    }
   ],
   "source": [
    "type(a)"
   ]
  },
  {
   "cell_type": "code",
   "execution_count": 6,
   "id": "b35d2df2",
   "metadata": {},
   "outputs": [
    {
     "name": "stdout",
     "output_type": "stream",
     "text": [
      "40\n"
     ]
    }
   ],
   "source": [
    "print(a)"
   ]
  },
  {
   "cell_type": "code",
   "execution_count": 7,
   "id": "764611cf",
   "metadata": {},
   "outputs": [],
   "source": [
    "# defining the function\n",
    "\n",
    "def my_func():\n",
    "    print(\"Hello\")\n",
    "    print(\"here i have defined my custom function\")\n",
    "    print(\"This function will execute only when you call it \")"
   ]
  },
  {
   "cell_type": "code",
   "execution_count": 8,
   "id": "b86e3430",
   "metadata": {},
   "outputs": [
    {
     "name": "stdout",
     "output_type": "stream",
     "text": [
      "Hello\n",
      "here i have defined my custom function\n",
      "This function will execute only when you call it \n"
     ]
    }
   ],
   "source": [
    "# calling the function\n",
    "my_func()"
   ]
  },
  {
   "cell_type": "code",
   "execution_count": 9,
   "id": "ced8ef80",
   "metadata": {},
   "outputs": [
    {
     "name": "stdout",
     "output_type": "stream",
     "text": [
      "hello\n"
     ]
    }
   ],
   "source": [
    "print(\"hello\")"
   ]
  },
  {
   "cell_type": "code",
   "execution_count": 10,
   "id": "7bfd3238",
   "metadata": {},
   "outputs": [],
   "source": [
    "# example\n",
    "\n",
    "def add():\n",
    "    x = 10\n",
    "    y = 20\n",
    "    z = x+y\n",
    "    print(z)"
   ]
  },
  {
   "cell_type": "code",
   "execution_count": 11,
   "id": "b9cd4785",
   "metadata": {},
   "outputs": [
    {
     "name": "stdout",
     "output_type": "stream",
     "text": [
      "30\n"
     ]
    }
   ],
   "source": [
    "add()"
   ]
  },
  {
   "cell_type": "code",
   "execution_count": 12,
   "id": "21358096",
   "metadata": {},
   "outputs": [
    {
     "name": "stdout",
     "output_type": "stream",
     "text": [
      "30\n"
     ]
    }
   ],
   "source": [
    "add()"
   ]
  },
  {
   "cell_type": "code",
   "execution_count": 13,
   "id": "ac6011b9",
   "metadata": {},
   "outputs": [],
   "source": [
    "# passing my paramters or arguements\n",
    "\n",
    "def add(x,y,z):\n",
    "    k = x+y+z\n",
    "    print(k)"
   ]
  },
  {
   "cell_type": "code",
   "execution_count": 14,
   "id": "d0a7bf0b",
   "metadata": {},
   "outputs": [
    {
     "name": "stdout",
     "output_type": "stream",
     "text": [
      "60\n"
     ]
    }
   ],
   "source": [
    "add(10,20,30)"
   ]
  },
  {
   "cell_type": "code",
   "execution_count": 15,
   "id": "26cf3f08",
   "metadata": {},
   "outputs": [
    {
     "ename": "TypeError",
     "evalue": "add() missing 1 required positional argument: 'z'",
     "output_type": "error",
     "traceback": [
      "\u001b[1;31m---------------------------------------------------------------------------\u001b[0m",
      "\u001b[1;31mTypeError\u001b[0m                                 Traceback (most recent call last)",
      "\u001b[1;32m<ipython-input-15-24d841086edf>\u001b[0m in \u001b[0;36m<module>\u001b[1;34m\u001b[0m\n\u001b[1;32m----> 1\u001b[1;33m \u001b[0madd\u001b[0m\u001b[1;33m(\u001b[0m\u001b[1;36m40\u001b[0m\u001b[1;33m,\u001b[0m\u001b[1;36m50\u001b[0m\u001b[1;33m)\u001b[0m \u001b[1;31m# error\u001b[0m\u001b[1;33m\u001b[0m\u001b[1;33m\u001b[0m\u001b[0m\n\u001b[0m",
      "\u001b[1;31mTypeError\u001b[0m: add() missing 1 required positional argument: 'z'"
     ]
    }
   ],
   "source": [
    "add(40,50) # error"
   ]
  },
  {
   "cell_type": "code",
   "execution_count": 16,
   "id": "22da1ad4",
   "metadata": {},
   "outputs": [
    {
     "name": "stdout",
     "output_type": "stream",
     "text": [
      "300\n"
     ]
    }
   ],
   "source": [
    "add(100,100,100)"
   ]
  },
  {
   "cell_type": "code",
   "execution_count": 17,
   "id": "f05c69ae",
   "metadata": {},
   "outputs": [
    {
     "name": "stdout",
     "output_type": "stream",
     "text": [
      "60\n"
     ]
    }
   ],
   "source": [
    "add(20,20,20)"
   ]
  },
  {
   "cell_type": "code",
   "execution_count": 18,
   "id": "32d5f8dc",
   "metadata": {},
   "outputs": [
    {
     "data": {
      "text/plain": [
       "140733737413648"
      ]
     },
     "execution_count": 18,
     "metadata": {},
     "output_type": "execute_result"
    }
   ],
   "source": [
    "id(a)"
   ]
  },
  {
   "cell_type": "code",
   "execution_count": 23,
   "id": "11b87deb",
   "metadata": {},
   "outputs": [],
   "source": [
    "# passing strings as arguement\n",
    "\n",
    "def strings(name,name1,name2):\n",
    "    print(\"Hello my name is {}\".format(name))\n",
    "    print(\"MY father name is {}\".format(name1))\n",
    "    print(\"My mother name is {}\".format(name2))"
   ]
  },
  {
   "cell_type": "code",
   "execution_count": 24,
   "id": "a2a247ea",
   "metadata": {},
   "outputs": [
    {
     "name": "stdout",
     "output_type": "stream",
     "text": [
      "Hello my name is Mike\n",
      "MY father name is Johnson\n",
      "My mother name is Angelina\n"
     ]
    }
   ],
   "source": [
    "strings(\"Mike\",\"Johnson\",\"Angelina\")"
   ]
  },
  {
   "cell_type": "code",
   "execution_count": 28,
   "id": "a2b42a77",
   "metadata": {},
   "outputs": [],
   "source": [
    "def strings(name):\n",
    "    print(\"Hello my name is {}\".format(name))"
   ]
  },
  {
   "cell_type": "code",
   "execution_count": 29,
   "id": "12c278ff",
   "metadata": {},
   "outputs": [
    {
     "name": "stdout",
     "output_type": "stream",
     "text": [
      "Hello my name is Rahul\n"
     ]
    }
   ],
   "source": [
    "strings(\"Rahul\")"
   ]
  },
  {
   "cell_type": "code",
   "execution_count": 30,
   "id": "cc36b510",
   "metadata": {},
   "outputs": [],
   "source": [
    "# example you can pass a lists\n",
    "def func(list1):\n",
    "    for i in list1:\n",
    "        print(i)"
   ]
  },
  {
   "cell_type": "code",
   "execution_count": 31,
   "id": "a39d7f60",
   "metadata": {},
   "outputs": [
    {
     "name": "stdout",
     "output_type": "stream",
     "text": [
      "1\n",
      "2\n",
      "3\n",
      "4\n",
      "5\n",
      "6\n"
     ]
    }
   ],
   "source": [
    "func([1,2,3,4,5,6])"
   ]
  },
  {
   "cell_type": "code",
   "execution_count": 32,
   "id": "0a4f9c09",
   "metadata": {},
   "outputs": [
    {
     "name": "stdout",
     "output_type": "stream",
     "text": [
      "hello\n",
      "How\n",
      "are\n",
      "you\n"
     ]
    }
   ],
   "source": [
    "func([\"hello\",\"How\",\"are\",\"you\"],)"
   ]
  },
  {
   "cell_type": "code",
   "execution_count": 33,
   "id": "f5d1ddd6",
   "metadata": {},
   "outputs": [],
   "source": [
    "# return keyword\n",
    "# return keyword can be used to return values from a function\n",
    "#it can used at the end of the execution of the function\n",
    "# statement below return keyword will not be executed"
   ]
  },
  {
   "cell_type": "code",
   "execution_count": 34,
   "id": "a396318d",
   "metadata": {},
   "outputs": [],
   "source": [
    "# example\n",
    "\n",
    "def add(x,y):\n",
    "    z = x+y\n",
    "    return z\n",
    "    print(\"my sum is \",z) # this willnot be executed"
   ]
  },
  {
   "cell_type": "code",
   "execution_count": 35,
   "id": "24a40747",
   "metadata": {},
   "outputs": [],
   "source": [
    "my_sum = add(10,20)"
   ]
  },
  {
   "cell_type": "code",
   "execution_count": 36,
   "id": "04d464f5",
   "metadata": {},
   "outputs": [
    {
     "data": {
      "text/plain": [
       "30"
      ]
     },
     "execution_count": 36,
     "metadata": {},
     "output_type": "execute_result"
    }
   ],
   "source": [
    "my_sum"
   ]
  },
  {
   "cell_type": "code",
   "execution_count": 37,
   "id": "4562fcf6",
   "metadata": {},
   "outputs": [],
   "source": [
    "def multi(x,y):\n",
    "    z = x* y\n",
    "    return z\n",
    "    print(\"my product is \",z) # this willnot be executed"
   ]
  },
  {
   "cell_type": "code",
   "execution_count": 38,
   "id": "772daae4",
   "metadata": {},
   "outputs": [
    {
     "data": {
      "text/plain": [
       "200"
      ]
     },
     "execution_count": 38,
     "metadata": {},
     "output_type": "execute_result"
    }
   ],
   "source": [
    "multi(10,20)"
   ]
  },
  {
   "cell_type": "code",
   "execution_count": 39,
   "id": "968a17ac",
   "metadata": {},
   "outputs": [],
   "source": [
    "# passing the default values as arguement inside our function\n",
    "# we will manually initalize a default values for the parameters to avoid errors\n",
    "def add1(x,y,z = 0):\n",
    "    k = x+y+z\n",
    "    print(k)"
   ]
  },
  {
   "cell_type": "code",
   "execution_count": 40,
   "id": "9571eb72",
   "metadata": {},
   "outputs": [
    {
     "data": {
      "text/plain": [
       "30"
      ]
     },
     "execution_count": 40,
     "metadata": {},
     "output_type": "execute_result"
    }
   ],
   "source": [
    "add(10,20)"
   ]
  },
  {
   "cell_type": "code",
   "execution_count": 41,
   "id": "a2d59849",
   "metadata": {},
   "outputs": [
    {
     "name": "stdout",
     "output_type": "stream",
     "text": [
      "30\n"
     ]
    }
   ],
   "source": [
    "# when z parameter is not passed\n",
    "add1(10,20)"
   ]
  },
  {
   "cell_type": "code",
   "execution_count": 42,
   "id": "48ecbea4",
   "metadata": {},
   "outputs": [
    {
     "name": "stdout",
     "output_type": "stream",
     "text": [
      "100\n"
     ]
    }
   ],
   "source": [
    "# when value has been passed\n",
    "add1(20,30,50)"
   ]
  },
  {
   "cell_type": "code",
   "execution_count": 43,
   "id": "cec22170",
   "metadata": {},
   "outputs": [],
   "source": [
    "# A function can call any other function\n",
    "\n",
    "def func1():\n",
    "    print(\"I am function 1\")\n",
    "    \n",
    "def func2():\n",
    "    print(\"I am function 2\")\n",
    "    func1()\n",
    "    \n",
    "def func3():\n",
    "    print(\"I am function 3\")\n",
    "    func1()\n",
    "    func2()"
   ]
  },
  {
   "cell_type": "code",
   "execution_count": 44,
   "id": "b4f2b831",
   "metadata": {},
   "outputs": [
    {
     "name": "stdout",
     "output_type": "stream",
     "text": [
      "I am function 3\n",
      "I am function 1\n",
      "I am function 2\n",
      "I am function 1\n"
     ]
    }
   ],
   "source": [
    "func3()"
   ]
  },
  {
   "cell_type": "code",
   "execution_count": 45,
   "id": "98bb7fec",
   "metadata": {},
   "outputs": [
    {
     "name": "stdout",
     "output_type": "stream",
     "text": [
      "I am function 2\n",
      "I am function 1\n"
     ]
    }
   ],
   "source": [
    "func2()"
   ]
  },
  {
   "cell_type": "code",
   "execution_count": 46,
   "id": "c4f24993",
   "metadata": {},
   "outputs": [],
   "source": [
    "#Recursive function or recursion\n",
    "#A function calling itself\n",
    "#possibility of infinity execution. Always handle this scenario"
   ]
  },
  {
   "cell_type": "code",
   "execution_count": 47,
   "id": "fd995b1f",
   "metadata": {},
   "outputs": [],
   "source": [
    "# example\n",
    "\n",
    "def my_func1(num):\n",
    "\n",
    "    num = num+1\n",
    "    if(num>5):\n",
    "        return\n",
    "    \n",
    "    print(\"Hello\")\n",
    "    my_func1(num)"
   ]
  },
  {
   "cell_type": "code",
   "execution_count": 48,
   "id": "2bc5b349",
   "metadata": {},
   "outputs": [
    {
     "name": "stdout",
     "output_type": "stream",
     "text": [
      "Hello\n",
      "Hello\n",
      "Hello\n",
      "Hello\n",
      "Hello\n"
     ]
    }
   ],
   "source": [
    "my_func1(0)"
   ]
  },
  {
   "cell_type": "code",
   "execution_count": 49,
   "id": "e59513c2",
   "metadata": {},
   "outputs": [],
   "source": [
    "def fact(num):\n",
    "    if (num == 1):\n",
    "        return 1\n",
    "    elif(num == 2):\n",
    "        return 2\n",
    "    else:\n",
    "        return(num*fact(num-1))"
   ]
  },
  {
   "cell_type": "code",
   "execution_count": 50,
   "id": "f2e47a75",
   "metadata": {},
   "outputs": [
    {
     "data": {
      "text/plain": [
       "120"
      ]
     },
     "execution_count": 50,
     "metadata": {},
     "output_type": "execute_result"
    }
   ],
   "source": [
    "fact(5)"
   ]
  },
  {
   "cell_type": "code",
   "execution_count": 51,
   "id": "59572428",
   "metadata": {},
   "outputs": [],
   "source": [
    "# ask 2 numbers rom user and store it in num1 and num2\n",
    "# ask user to press 1 for add 2 for sub 3 for multi 4 for division\n",
    "# create a function for every operation\n",
    "# based on the number givenn by user call that particular function"
   ]
  },
  {
   "cell_type": "code",
   "execution_count": null,
   "id": "5b9b1e36",
   "metadata": {},
   "outputs": [],
   "source": []
  }
 ],
 "metadata": {
  "kernelspec": {
   "display_name": "Python 3",
   "language": "python",
   "name": "python3"
  },
  "language_info": {
   "codemirror_mode": {
    "name": "ipython",
    "version": 3
   },
   "file_extension": ".py",
   "mimetype": "text/x-python",
   "name": "python",
   "nbconvert_exporter": "python",
   "pygments_lexer": "ipython3",
   "version": "3.8.8"
  }
 },
 "nbformat": 4,
 "nbformat_minor": 5
}
