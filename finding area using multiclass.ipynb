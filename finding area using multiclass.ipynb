{
 "cells": [
  {
   "cell_type": "code",
   "execution_count": 1,
   "id": "85ecf897",
   "metadata": {},
   "outputs": [
    {
     "name": "stdout",
     "output_type": "stream",
     "text": [
      "Area of Rectangle is  180\n",
      "Area of Triangle is  90.0\n"
     ]
    }
   ],
   "source": [
    "class Polygon:\n",
    "    width = 0\n",
    "    height = 0\n",
    "\n",
    "    def set_values(self,width,height):\n",
    "       Polygon.width = width\n",
    "       Polygon.height = height\n",
    "\n",
    "class Rectangle(Polygon):\n",
    "\n",
    "    def Area(self):\n",
    "        return self.width*self.height\n",
    "\n",
    "class Triangle(Polygon):\n",
    "\n",
    "    def Area(self):\n",
    "        return (self.width*self.height)/2\n",
    "\n",
    "rect = Rectangle()\n",
    "tri = Triangle()\n",
    "\n",
    "rect.set_values(13,15)\n",
    "tri.set_values(12,15)\n",
    "\n",
    "print(\"Area of Rectangle is \",rect.Area())\n",
    "print(\"Area of Triangle is \",tri.Area())\n"
   ]
  },
  {
   "cell_type": "code",
   "execution_count": null,
   "id": "91c467a5",
   "metadata": {},
   "outputs": [],
   "source": []
  }
 ],
 "metadata": {
  "kernelspec": {
   "display_name": "Python 3",
   "language": "python",
   "name": "python3"
  },
  "language_info": {
   "codemirror_mode": {
    "name": "ipython",
    "version": 3
   },
   "file_extension": ".py",
   "mimetype": "text/x-python",
   "name": "python",
   "nbconvert_exporter": "python",
   "pygments_lexer": "ipython3",
   "version": "3.8.8"
  }
 },
 "nbformat": 4,
 "nbformat_minor": 5
}
