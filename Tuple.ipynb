{
 "cells": [
  {
   "cell_type": "code",
   "execution_count": 4,
   "id": "a85c3ded",
   "metadata": {},
   "outputs": [],
   "source": [
    "#Tuples are built with a round brackets\n",
    "#important properties of tuples\n",
    "#can store different data types duplicate values are allowed indexing and slicing are possible immutable"
   ]
  },
  {
   "cell_type": "code",
   "execution_count": 5,
   "id": "2c11232b",
   "metadata": {},
   "outputs": [],
   "source": [
    "tuple1 = (1,2,3,'hello','python',-20.99, 20.8888,10,15)"
   ]
  },
  {
   "cell_type": "code",
   "execution_count": 6,
   "id": "ee51b1b4",
   "metadata": {},
   "outputs": [
    {
     "name": "stdout",
     "output_type": "stream",
     "text": [
      "(1, 2, 3, 'hello', 'python', -20.99, 20.8888, 10, 15)\n"
     ]
    }
   ],
   "source": [
    "print(tuple1)"
   ]
  },
  {
   "cell_type": "code",
   "execution_count": 7,
   "id": "0e8c3551",
   "metadata": {},
   "outputs": [
    {
     "data": {
      "text/plain": [
       "tuple"
      ]
     },
     "execution_count": 7,
     "metadata": {},
     "output_type": "execute_result"
    }
   ],
   "source": [
    "type(tuple1)"
   ]
  },
  {
   "cell_type": "code",
   "execution_count": 8,
   "id": "f95445e3",
   "metadata": {},
   "outputs": [
    {
     "data": {
      "text/plain": [
       "9"
      ]
     },
     "execution_count": 8,
     "metadata": {},
     "output_type": "execute_result"
    }
   ],
   "source": [
    "len(tuple1)"
   ]
  },
  {
   "cell_type": "code",
   "execution_count": 9,
   "id": "d34bdb28",
   "metadata": {},
   "outputs": [],
   "source": [
    "tuple2 =(9,)"
   ]
  },
  {
   "cell_type": "code",
   "execution_count": 10,
   "id": "03edb76a",
   "metadata": {},
   "outputs": [
    {
     "data": {
      "text/plain": [
       "(9,)"
      ]
     },
     "execution_count": 10,
     "metadata": {},
     "output_type": "execute_result"
    }
   ],
   "source": [
    "tuple2"
   ]
  },
  {
   "cell_type": "code",
   "execution_count": 11,
   "id": "eaad65f2",
   "metadata": {},
   "outputs": [
    {
     "data": {
      "text/plain": [
       "tuple"
      ]
     },
     "execution_count": 11,
     "metadata": {},
     "output_type": "execute_result"
    }
   ],
   "source": [
    "type(tuple2)"
   ]
  },
  {
   "cell_type": "code",
   "execution_count": 12,
   "id": "d732c6f0",
   "metadata": {},
   "outputs": [
    {
     "data": {
      "text/plain": [
       "15"
      ]
     },
     "execution_count": 12,
     "metadata": {},
     "output_type": "execute_result"
    }
   ],
   "source": [
    "# indexing\n",
    "\n",
    "# to get first element\n",
    "\n",
    "tuple1[8]"
   ]
  },
  {
   "cell_type": "code",
   "execution_count": 13,
   "id": "e211f89e",
   "metadata": {},
   "outputs": [
    {
     "data": {
      "text/plain": [
       "(1, 3, 'python', 20.8888)"
      ]
     },
     "execution_count": 13,
     "metadata": {},
     "output_type": "execute_result"
    }
   ],
   "source": [
    "#slicing\n",
    "tuple1[0:8:2]"
   ]
  },
  {
   "cell_type": "code",
   "execution_count": 14,
   "id": "12f481e4",
   "metadata": {
    "scrolled": true
   },
   "outputs": [
    {
     "ename": "TypeError",
     "evalue": "'tuple' object does not support item assignment",
     "output_type": "error",
     "traceback": [
      "\u001b[1;31m---------------------------------------------------------------------------\u001b[0m",
      "\u001b[1;31mTypeError\u001b[0m                                 Traceback (most recent call last)",
      "\u001b[1;32m<ipython-input-14-eff0656c0811>\u001b[0m in \u001b[0;36m<module>\u001b[1;34m\u001b[0m\n\u001b[0;32m      1\u001b[0m \u001b[1;31m# Adding of elements\u001b[0m\u001b[1;33m\u001b[0m\u001b[1;33m\u001b[0m\u001b[1;33m\u001b[0m\u001b[0m\n\u001b[0;32m      2\u001b[0m \u001b[1;33m\u001b[0m\u001b[0m\n\u001b[1;32m----> 3\u001b[1;33m \u001b[0mtuple1\u001b[0m\u001b[1;33m[\u001b[0m\u001b[1;36m0\u001b[0m\u001b[1;33m]\u001b[0m \u001b[1;33m=\u001b[0m \u001b[1;36m10\u001b[0m \u001b[1;31m#error\u001b[0m\u001b[1;33m\u001b[0m\u001b[1;33m\u001b[0m\u001b[0m\n\u001b[0m",
      "\u001b[1;31mTypeError\u001b[0m: 'tuple' object does not support item assignment"
     ]
    }
   ],
   "source": [
    "# Adding of elements\n",
    "\n",
    "tuple1[0] = 10 #error"
   ]
  },
  {
   "cell_type": "code",
   "execution_count": 15,
   "id": "c1b55241",
   "metadata": {
    "scrolled": true
   },
   "outputs": [
    {
     "ename": "AttributeError",
     "evalue": "'tuple' object has no attribute 'pop'",
     "output_type": "error",
     "traceback": [
      "\u001b[1;31m---------------------------------------------------------------------------\u001b[0m",
      "\u001b[1;31mAttributeError\u001b[0m                            Traceback (most recent call last)",
      "\u001b[1;32m<ipython-input-15-0628cf5e79cf>\u001b[0m in \u001b[0;36m<module>\u001b[1;34m\u001b[0m\n\u001b[0;32m      1\u001b[0m \u001b[1;31m# remove\u001b[0m\u001b[1;33m\u001b[0m\u001b[1;33m\u001b[0m\u001b[1;33m\u001b[0m\u001b[0m\n\u001b[1;32m----> 2\u001b[1;33m \u001b[0mtuple1\u001b[0m\u001b[1;33m.\u001b[0m\u001b[0mpop\u001b[0m\u001b[1;33m(\u001b[0m\u001b[1;33m)\u001b[0m \u001b[1;31m#error you can remove elements\u001b[0m\u001b[1;33m\u001b[0m\u001b[1;33m\u001b[0m\u001b[0m\n\u001b[0m",
      "\u001b[1;31mAttributeError\u001b[0m: 'tuple' object has no attribute 'pop'"
     ]
    }
   ],
   "source": [
    "# remove\n",
    "tuple1.pop() #error you can remove elements"
   ]
  },
  {
   "cell_type": "code",
   "execution_count": 16,
   "id": "f1c6ec3e",
   "metadata": {},
   "outputs": [
    {
     "ename": "AttributeError",
     "evalue": "'tuple' object has no attribute 'append'",
     "output_type": "error",
     "traceback": [
      "\u001b[1;31m---------------------------------------------------------------------------\u001b[0m",
      "\u001b[1;31mAttributeError\u001b[0m                            Traceback (most recent call last)",
      "\u001b[1;32m<ipython-input-16-43cb245597d0>\u001b[0m in \u001b[0;36m<module>\u001b[1;34m\u001b[0m\n\u001b[0;32m      1\u001b[0m \u001b[1;31m# append\u001b[0m\u001b[1;33m\u001b[0m\u001b[1;33m\u001b[0m\u001b[1;33m\u001b[0m\u001b[0m\n\u001b[0;32m      2\u001b[0m \u001b[1;33m\u001b[0m\u001b[0m\n\u001b[1;32m----> 3\u001b[1;33m \u001b[0mtuple1\u001b[0m\u001b[1;33m.\u001b[0m\u001b[0mappend\u001b[0m\u001b[1;33m(\u001b[0m\u001b[1;34m'programming'\u001b[0m\u001b[1;33m)\u001b[0m\u001b[1;33m\u001b[0m\u001b[1;33m\u001b[0m\u001b[0m\n\u001b[0m",
      "\u001b[1;31mAttributeError\u001b[0m: 'tuple' object has no attribute 'append'"
     ]
    }
   ],
   "source": [
    "# append\n",
    "\n",
    "tuple1.append('programming')"
   ]
  },
  {
   "cell_type": "code",
   "execution_count": 17,
   "id": "6c0baac3",
   "metadata": {},
   "outputs": [],
   "source": [
    "tuple2 = (2,3,4,(5,6,7,(10,11)),8)"
   ]
  },
  {
   "cell_type": "code",
   "execution_count": 18,
   "id": "81a73956",
   "metadata": {},
   "outputs": [
    {
     "data": {
      "text/plain": [
       "(2, 3, 4, (5, 6, 7, (10, 11)), 8)"
      ]
     },
     "execution_count": 18,
     "metadata": {},
     "output_type": "execute_result"
    }
   ],
   "source": [
    "tuple2"
   ]
  },
  {
   "cell_type": "code",
   "execution_count": 19,
   "id": "2b8ca872",
   "metadata": {},
   "outputs": [],
   "source": [
    "# you can only perform indexing and slicing on tuples"
   ]
  },
  {
   "cell_type": "code",
   "execution_count": 20,
   "id": "0526400e",
   "metadata": {},
   "outputs": [],
   "source": [
    "conversion_of_tuple = list(tuple1)"
   ]
  },
  {
   "cell_type": "code",
   "execution_count": 21,
   "id": "d2cba5dc",
   "metadata": {},
   "outputs": [
    {
     "data": {
      "text/plain": [
       "list"
      ]
     },
     "execution_count": 21,
     "metadata": {},
     "output_type": "execute_result"
    }
   ],
   "source": [
    "type(conversion_of_tuple)"
   ]
  },
  {
   "cell_type": "code",
   "execution_count": 22,
   "id": "a3aab1e8",
   "metadata": {},
   "outputs": [],
   "source": [
    "conversion_of_tuple[0] = 100"
   ]
  },
  {
   "cell_type": "code",
   "execution_count": 23,
   "id": "afe4c7d7",
   "metadata": {},
   "outputs": [
    {
     "data": {
      "text/plain": [
       "[100, 2, 3, 'hello', 'python', -20.99, 20.8888, 10, 15]"
      ]
     },
     "execution_count": 23,
     "metadata": {},
     "output_type": "execute_result"
    }
   ],
   "source": [
    "conversion_of_tuple"
   ]
  },
  {
   "cell_type": "code",
   "execution_count": 24,
   "id": "57359c94",
   "metadata": {},
   "outputs": [],
   "source": [
    "tuple3 = tuple(conversion_of_tuple)"
   ]
  },
  {
   "cell_type": "code",
   "execution_count": 25,
   "id": "2583bf1c",
   "metadata": {},
   "outputs": [
    {
     "data": {
      "text/plain": [
       "(100, 2, 3, 'hello', 'python', -20.99, 20.8888, 10, 15)"
      ]
     },
     "execution_count": 25,
     "metadata": {},
     "output_type": "execute_result"
    }
   ],
   "source": [
    "tuple3"
   ]
  },
  {
   "cell_type": "code",
   "execution_count": 26,
   "id": "257c43c0",
   "metadata": {},
   "outputs": [
    {
     "data": {
      "text/plain": [
       "tuple"
      ]
     },
     "execution_count": 26,
     "metadata": {},
     "output_type": "execute_result"
    }
   ],
   "source": [
    "type(tuple3)"
   ]
  },
  {
   "cell_type": "code",
   "execution_count": 27,
   "id": "feae140d",
   "metadata": {},
   "outputs": [
    {
     "name": "stdout",
     "output_type": "stream",
     "text": [
      "False\n"
     ]
    }
   ],
   "source": [
    "# using 'in' operator\n",
    "\n",
    "# syntax element in datatype or object\n",
    "\n",
    "print(25  in tuple3)"
   ]
  },
  {
   "cell_type": "code",
   "execution_count": 28,
   "id": "c614066b",
   "metadata": {},
   "outputs": [],
   "source": [
    "tuple1 = (1,2,3,'hello','python',-20.99, 20.8888,10,15)\n",
    "tuple2 = (2,3,4,(5,6,7,(10,11)),8)"
   ]
  },
  {
   "cell_type": "code",
   "execution_count": 29,
   "id": "e3ebb222",
   "metadata": {},
   "outputs": [],
   "source": [
    "# Joining Tuples\n",
    "\n",
    "tuple3 = tuple1+tuple2"
   ]
  },
  {
   "cell_type": "code",
   "execution_count": 30,
   "id": "37802af8",
   "metadata": {},
   "outputs": [
    {
     "name": "stdout",
     "output_type": "stream",
     "text": [
      "(1, 2, 3, 'hello', 'python', -20.99, 20.8888, 10, 15, 2, 3, 4, (5, 6, 7, (10, 11)), 8)\n"
     ]
    }
   ],
   "source": [
    "print(tuple3)"
   ]
  },
  {
   "cell_type": "code",
   "execution_count": 31,
   "id": "01aedffc",
   "metadata": {},
   "outputs": [
    {
     "data": {
      "text/plain": [
       "2"
      ]
     },
     "execution_count": 31,
     "metadata": {},
     "output_type": "execute_result"
    }
   ],
   "source": [
    "# count --> How many number of times a particular item has been repeated\n",
    "\n",
    "tuple3.count(3)"
   ]
  },
  {
   "cell_type": "code",
   "execution_count": 32,
   "id": "4bf8363a",
   "metadata": {},
   "outputs": [
    {
     "data": {
      "text/plain": [
       "2"
      ]
     },
     "execution_count": 32,
     "metadata": {},
     "output_type": "execute_result"
    }
   ],
   "source": [
    "tuple3.index(3)"
   ]
  },
  {
   "cell_type": "code",
   "execution_count": null,
   "id": "fefa4b78",
   "metadata": {},
   "outputs": [],
   "source": []
  }
 ],
 "metadata": {
  "kernelspec": {
   "display_name": "Python 3",
   "language": "python",
   "name": "python3"
  },
  "language_info": {
   "codemirror_mode": {
    "name": "ipython",
    "version": 3
   },
   "file_extension": ".py",
   "mimetype": "text/x-python",
   "name": "python",
   "nbconvert_exporter": "python",
   "pygments_lexer": "ipython3",
   "version": "3.8.8"
  }
 },
 "nbformat": 4,
 "nbformat_minor": 5
}
