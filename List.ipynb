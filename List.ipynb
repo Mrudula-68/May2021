{
 "cells": [
  {
   "cell_type": "code",
   "execution_count": 1,
   "id": "4147182e",
   "metadata": {},
   "outputs": [],
   "source": [
    "#slicing and indexing\n",
    "\n",
    "a  = 'hi we are learning python'"
   ]
  },
  {
   "cell_type": "code",
   "execution_count": 2,
   "id": "6a65cef3",
   "metadata": {},
   "outputs": [
    {
     "name": "stdout",
     "output_type": "stream",
     "text": [
      "h w\n"
     ]
    }
   ],
   "source": [
    "#index 0 \n",
    "print(a[0],a[3])"
   ]
  },
  {
   "cell_type": "code",
   "execution_count": 3,
   "id": "a8a97a0c",
   "metadata": {},
   "outputs": [
    {
     "name": "stdout",
     "output_type": "stream",
     "text": [
      "n o y\n"
     ]
    }
   ],
   "source": [
    "print(a[-1],a[-2],a[-5])"
   ]
  },
  {
   "cell_type": "code",
   "execution_count": 4,
   "id": "09c63e47",
   "metadata": {},
   "outputs": [
    {
     "data": {
      "text/plain": [
       "25"
      ]
     },
     "execution_count": 4,
     "metadata": {},
     "output_type": "execute_result"
    }
   ],
   "source": [
    "len(a)"
   ]
  },
  {
   "cell_type": "code",
   "execution_count": 5,
   "id": "7cfe2e7a",
   "metadata": {},
   "outputs": [],
   "source": [
    "# slicing [start:stop:step]\n",
    "# starting position (default 0)\n",
    "#stop - end position \n",
    "#step - step size or increment size (default value 1)\n",
    "\n",
    "# example\n",
    "\n",
    "b = 'hello world'"
   ]
  },
  {
   "cell_type": "code",
   "execution_count": 6,
   "id": "a361e6ee",
   "metadata": {},
   "outputs": [
    {
     "data": {
      "text/plain": [
       "'hello'"
      ]
     },
     "execution_count": 6,
     "metadata": {},
     "output_type": "execute_result"
    }
   ],
   "source": [
    "b[:5]"
   ]
  },
  {
   "cell_type": "code",
   "execution_count": 7,
   "id": "baf5a046",
   "metadata": {},
   "outputs": [
    {
     "data": {
      "text/plain": [
       "'world'"
      ]
     },
     "execution_count": 7,
     "metadata": {},
     "output_type": "execute_result"
    }
   ],
   "source": [
    "b[6:]"
   ]
  },
  {
   "cell_type": "code",
   "execution_count": 8,
   "id": "11dc98e5",
   "metadata": {},
   "outputs": [
    {
     "data": {
      "text/plain": [
       "'hlowrd'"
      ]
     },
     "execution_count": 8,
     "metadata": {},
     "output_type": "execute_result"
    }
   ],
   "source": [
    "b[::2]"
   ]
  },
  {
   "cell_type": "code",
   "execution_count": 9,
   "id": "26a818fa",
   "metadata": {},
   "outputs": [
    {
     "data": {
      "text/plain": [
       "'dlrow olleh'"
      ]
     },
     "execution_count": 9,
     "metadata": {},
     "output_type": "execute_result"
    }
   ],
   "source": [
    "#reverse the string \n",
    "b[::-1]"
   ]
  },
  {
   "cell_type": "code",
   "execution_count": 10,
   "id": "5a2f866f",
   "metadata": {},
   "outputs": [],
   "source": [
    "#LIST\n",
    "# we can store different data types\n",
    "# duplicate values are allowed\n",
    "# indexing and slicing is possible\n",
    "# mutable"
   ]
  },
  {
   "cell_type": "code",
   "execution_count": 11,
   "id": "41a1f0b1",
   "metadata": {},
   "outputs": [],
   "source": [
    "# IN python list are written with square brackets\n",
    "\n",
    "list_1 = [1,2,2.5,-99, \"Hey\", \"Guys\",\"Python\", True, False]"
   ]
  },
  {
   "cell_type": "code",
   "execution_count": 12,
   "id": "42897905",
   "metadata": {},
   "outputs": [
    {
     "name": "stdout",
     "output_type": "stream",
     "text": [
      "[1, 2, 2.5, -99, 'Hey', 'Guys', 'Python', True, False]\n"
     ]
    }
   ],
   "source": [
    "print(list_1)"
   ]
  },
  {
   "cell_type": "code",
   "execution_count": 13,
   "id": "476c5d4f",
   "metadata": {},
   "outputs": [],
   "source": [
    "list_2 = [12,13,13,13, 13, 20, 25, 34 , 34.999, 12.883, -9.86]"
   ]
  },
  {
   "cell_type": "code",
   "execution_count": 14,
   "id": "2f7cc81b",
   "metadata": {},
   "outputs": [
    {
     "name": "stdout",
     "output_type": "stream",
     "text": [
      "[12, 13, 13, 13, 13, 20, 25, 34, 34.999, 12.883, -9.86]\n"
     ]
    }
   ],
   "source": [
    "print(list_2)"
   ]
  },
  {
   "cell_type": "code",
   "execution_count": 15,
   "id": "d87af906",
   "metadata": {},
   "outputs": [],
   "source": [
    "list_3 = ['Hey','Guys','how','was','your','day']"
   ]
  },
  {
   "cell_type": "code",
   "execution_count": 16,
   "id": "2f54b8e3",
   "metadata": {},
   "outputs": [
    {
     "name": "stdout",
     "output_type": "stream",
     "text": [
      "['Hey', 'Guys', 'how', 'was', 'your', 'day']\n"
     ]
    }
   ],
   "source": [
    "print(list_3)"
   ]
  },
  {
   "cell_type": "code",
   "execution_count": 17,
   "id": "c88ec93d",
   "metadata": {},
   "outputs": [
    {
     "data": {
      "text/plain": [
       "list"
      ]
     },
     "execution_count": 17,
     "metadata": {},
     "output_type": "execute_result"
    }
   ],
   "source": [
    "# checking the data type of a particular variable using the function called  type()\n",
    "\n",
    "type(list_1)"
   ]
  },
  {
   "cell_type": "code",
   "execution_count": 18,
   "id": "ec750410",
   "metadata": {},
   "outputs": [
    {
     "data": {
      "text/plain": [
       "11"
      ]
     },
     "execution_count": 18,
     "metadata": {},
     "output_type": "execute_result"
    }
   ],
   "source": [
    "len(list_2)"
   ]
  },
  {
   "cell_type": "code",
   "execution_count": 19,
   "id": "558e41bf",
   "metadata": {},
   "outputs": [
    {
     "data": {
      "text/plain": [
       "1"
      ]
     },
     "execution_count": 19,
     "metadata": {},
     "output_type": "execute_result"
    }
   ],
   "source": [
    "# To do the indexing on the list datatype : And as previous examples same it is universal that indexing starts from 0 \n",
    "# gettting my first element using indexing\n",
    "\n",
    "list_1[0]"
   ]
  },
  {
   "cell_type": "code",
   "execution_count": 20,
   "id": "29e8efee",
   "metadata": {},
   "outputs": [
    {
     "data": {
      "text/plain": [
       "False"
      ]
     },
     "execution_count": 20,
     "metadata": {},
     "output_type": "execute_result"
    }
   ],
   "source": [
    "# get my last element\n",
    "\n",
    "list_1[-1]"
   ]
  },
  {
   "cell_type": "code",
   "execution_count": 21,
   "id": "3772cf60",
   "metadata": {},
   "outputs": [
    {
     "data": {
      "text/plain": [
       "'Guys'"
      ]
     },
     "execution_count": 21,
     "metadata": {},
     "output_type": "execute_result"
    }
   ],
   "source": [
    "# get the 5th element\n",
    "\n",
    "list_1[5]"
   ]
  },
  {
   "cell_type": "code",
   "execution_count": 22,
   "id": "9f5d0c06",
   "metadata": {},
   "outputs": [
    {
     "data": {
      "text/plain": [
       "[12, 13, 13]"
      ]
     },
     "execution_count": 22,
     "metadata": {},
     "output_type": "execute_result"
    }
   ],
   "source": [
    "# Slicing \n",
    "\n",
    "# to get first 3 elements\n",
    "\n",
    "list_2[:3]"
   ]
  },
  {
   "cell_type": "code",
   "execution_count": 23,
   "id": "bb2a5661",
   "metadata": {},
   "outputs": [
    {
     "data": {
      "text/plain": [
       "[1, 2, 2.5, -99, 'Hey']"
      ]
     },
     "execution_count": 23,
     "metadata": {},
     "output_type": "execute_result"
    }
   ],
   "source": [
    "# to get first 5 elements\n",
    "\n",
    "list_1[:5]"
   ]
  },
  {
   "cell_type": "code",
   "execution_count": 24,
   "id": "a5dade01",
   "metadata": {},
   "outputs": [
    {
     "data": {
      "text/plain": [
       "['Hey', 'Guys', 'how', 'was', 'your', 'day']"
      ]
     },
     "execution_count": 24,
     "metadata": {},
     "output_type": "execute_result"
    }
   ],
   "source": [
    "list_3[:8]"
   ]
  },
  {
   "cell_type": "code",
   "execution_count": 25,
   "id": "945706cb",
   "metadata": {},
   "outputs": [
    {
     "data": {
      "text/plain": [
       "[25, 34, 34.999, 12.883, -9.86]"
      ]
     },
     "execution_count": 25,
     "metadata": {},
     "output_type": "execute_result"
    }
   ],
   "source": [
    "# getting the last five elements\n",
    "\n",
    "list_2[-5:]"
   ]
  },
  {
   "cell_type": "code",
   "execution_count": 26,
   "id": "7054b2da",
   "metadata": {},
   "outputs": [
    {
     "data": {
      "text/plain": [
       "[12, 13, 25, 12.883]"
      ]
     },
     "execution_count": 26,
     "metadata": {},
     "output_type": "execute_result"
    }
   ],
   "source": [
    "# using the increment position(passing the value in the increment position)\n",
    "\n",
    "list_2[::3]"
   ]
  },
  {
   "cell_type": "code",
   "execution_count": 27,
   "id": "6150f9eb",
   "metadata": {},
   "outputs": [],
   "source": [
    "# mutable"
   ]
  },
  {
   "cell_type": "code",
   "execution_count": 28,
   "id": "193229fa",
   "metadata": {},
   "outputs": [],
   "source": [
    "list_2 = [12,13,13,13, 13, 20, 25, 34 , 34.999, 12.883, -9.86]"
   ]
  },
  {
   "cell_type": "code",
   "execution_count": 29,
   "id": "9329c694",
   "metadata": {},
   "outputs": [],
   "source": [
    "list_2[3] = 40"
   ]
  },
  {
   "cell_type": "code",
   "execution_count": 30,
   "id": "6f826e3a",
   "metadata": {},
   "outputs": [
    {
     "data": {
      "text/plain": [
       "[12, 13, 13, 40, 13, 20, 25, 34, 34.999, 12.883, -9.86]"
      ]
     },
     "execution_count": 30,
     "metadata": {},
     "output_type": "execute_result"
    }
   ],
   "source": [
    "list_2"
   ]
  },
  {
   "cell_type": "code",
   "execution_count": 31,
   "id": "67e3af8f",
   "metadata": {},
   "outputs": [],
   "source": [
    "# SOME INBUILT METHODS TO DO FEW OPERATIONS"
   ]
  },
  {
   "cell_type": "code",
   "execution_count": 32,
   "id": "6670218b",
   "metadata": {},
   "outputs": [],
   "source": [
    "# append operation appends the value at the end of the list\n",
    "list_2.append(\"Rajesh\")"
   ]
  },
  {
   "cell_type": "code",
   "execution_count": 33,
   "id": "daa021a6",
   "metadata": {},
   "outputs": [
    {
     "data": {
      "text/plain": [
       "[12, 13, 13, 40, 13, 20, 25, 34, 34.999, 12.883, -9.86, 'Rajesh']"
      ]
     },
     "execution_count": 33,
     "metadata": {},
     "output_type": "execute_result"
    }
   ],
   "source": [
    "list_2"
   ]
  },
  {
   "cell_type": "code",
   "execution_count": 34,
   "id": "637e1348",
   "metadata": {},
   "outputs": [],
   "source": [
    "list_2.append(\"Sachin\")"
   ]
  },
  {
   "cell_type": "code",
   "execution_count": 35,
   "id": "29e963b6",
   "metadata": {},
   "outputs": [
    {
     "data": {
      "text/plain": [
       "[12, 13, 13, 40, 13, 20, 25, 34, 34.999, 12.883, -9.86, 'Rajesh', 'Sachin']"
      ]
     },
     "execution_count": 35,
     "metadata": {},
     "output_type": "execute_result"
    }
   ],
   "source": [
    "list_2"
   ]
  },
  {
   "cell_type": "code",
   "execution_count": 36,
   "id": "f544ddf0",
   "metadata": {},
   "outputs": [],
   "source": [
    "# INSERT(pos, element)"
   ]
  },
  {
   "cell_type": "code",
   "execution_count": 37,
   "id": "3d746e26",
   "metadata": {},
   "outputs": [],
   "source": [
    "list_2.insert(1,30)"
   ]
  },
  {
   "cell_type": "code",
   "execution_count": 38,
   "id": "291acde3",
   "metadata": {},
   "outputs": [
    {
     "data": {
      "text/plain": [
       "[12, 30, 13, 13, 40, 13, 20, 25, 34, 34.999, 12.883, -9.86, 'Rajesh', 'Sachin']"
      ]
     },
     "execution_count": 38,
     "metadata": {},
     "output_type": "execute_result"
    }
   ],
   "source": [
    "list_2"
   ]
  },
  {
   "cell_type": "code",
   "execution_count": 39,
   "id": "82238ca1",
   "metadata": {},
   "outputs": [],
   "source": [
    "list_2.insert(5,\"Hello\")"
   ]
  },
  {
   "cell_type": "code",
   "execution_count": 40,
   "id": "5e74dda9",
   "metadata": {},
   "outputs": [
    {
     "data": {
      "text/plain": [
       "[12,\n",
       " 30,\n",
       " 13,\n",
       " 13,\n",
       " 40,\n",
       " 'Hello',\n",
       " 13,\n",
       " 20,\n",
       " 25,\n",
       " 34,\n",
       " 34.999,\n",
       " 12.883,\n",
       " -9.86,\n",
       " 'Rajesh',\n",
       " 'Sachin']"
      ]
     },
     "execution_count": 40,
     "metadata": {},
     "output_type": "execute_result"
    }
   ],
   "source": [
    "list_2"
   ]
  },
  {
   "cell_type": "code",
   "execution_count": 41,
   "id": "71401634",
   "metadata": {},
   "outputs": [],
   "source": [
    "# copying your list into a different variable\n",
    "\n",
    "list_4 = list_2"
   ]
  },
  {
   "cell_type": "code",
   "execution_count": 42,
   "id": "922ad8f9",
   "metadata": {},
   "outputs": [
    {
     "name": "stdout",
     "output_type": "stream",
     "text": [
      "[12, 30, 13, 13, 40, 'Hello', 13, 20, 25, 34, 34.999, 12.883, -9.86, 'Rajesh', 'Sachin']\n"
     ]
    }
   ],
   "source": [
    "print(list_4) # copying the list_2 using the assignment operator '='"
   ]
  },
  {
   "cell_type": "code",
   "execution_count": 43,
   "id": "927f2b5b",
   "metadata": {},
   "outputs": [
    {
     "name": "stdout",
     "output_type": "stream",
     "text": [
      "[12, 30, 13, 13, 40, 'Hello', 13, 20, 25, 34, 34.999, 12.883, -9.86, 'Rajesh', 'Sachin']\n"
     ]
    }
   ],
   "source": [
    "print(list_2) # original"
   ]
  },
  {
   "cell_type": "code",
   "execution_count": 44,
   "id": "e9ab7974",
   "metadata": {},
   "outputs": [],
   "source": [
    "# to copy the values from one variable to another we have a function known as .copy()\n",
    "\n",
    "list_5 = list_2.copy() # copying the list_2 using the copy() function"
   ]
  },
  {
   "cell_type": "code",
   "execution_count": 45,
   "id": "3eb03a60",
   "metadata": {},
   "outputs": [
    {
     "name": "stdout",
     "output_type": "stream",
     "text": [
      "[12, 30, 13, 13, 40, 'Hello', 13, 20, 25, 34, 34.999, 12.883, -9.86, 'Rajesh', 'Sachin']\n"
     ]
    }
   ],
   "source": [
    "print(list_5)"
   ]
  },
  {
   "cell_type": "code",
   "execution_count": 46,
   "id": "4c526a59",
   "metadata": {},
   "outputs": [],
   "source": [
    "list_4[4] = 'Python'"
   ]
  },
  {
   "cell_type": "code",
   "execution_count": 47,
   "id": "33dd7029",
   "metadata": {},
   "outputs": [
    {
     "name": "stdout",
     "output_type": "stream",
     "text": [
      "[12, 30, 13, 13, 'Python', 'Hello', 13, 20, 25, 34, 34.999, 12.883, -9.86, 'Rajesh', 'Sachin']\n",
      "[12, 30, 13, 13, 'Python', 'Hello', 13, 20, 25, 34, 34.999, 12.883, -9.86, 'Rajesh', 'Sachin']\n"
     ]
    }
   ],
   "source": [
    "print(list_4)\n",
    "print(list_2)"
   ]
  },
  {
   "cell_type": "code",
   "execution_count": 48,
   "id": "d0260ae7",
   "metadata": {},
   "outputs": [],
   "source": [
    "list_5[7] = 'Programming'"
   ]
  },
  {
   "cell_type": "code",
   "execution_count": 49,
   "id": "67c45d58",
   "metadata": {},
   "outputs": [
    {
     "name": "stdout",
     "output_type": "stream",
     "text": [
      "[12, 30, 13, 13, 40, 'Hello', 13, 'Programming', 25, 34, 34.999, 12.883, -9.86, 'Rajesh', 'Sachin']\n",
      "[12, 30, 13, 13, 'Python', 'Hello', 13, 20, 25, 34, 34.999, 12.883, -9.86, 'Rajesh', 'Sachin']\n"
     ]
    }
   ],
   "source": [
    "print(list_5)\n",
    "print(list_2)"
   ]
  },
  {
   "cell_type": "code",
   "execution_count": 50,
   "id": "a22e3a23",
   "metadata": {},
   "outputs": [],
   "source": [
    "# extend\n",
    "\n",
    "# IN python list are written with square brackets\n",
    "\n",
    "list_1 = [1,2,2.5,-99, \"Hey\", \"Guys\",\"Python\", True, False]"
   ]
  },
  {
   "cell_type": "code",
   "execution_count": 51,
   "id": "793873c6",
   "metadata": {},
   "outputs": [],
   "source": [
    "list_1.extend(list_2)"
   ]
  },
  {
   "cell_type": "code",
   "execution_count": 52,
   "id": "6a3c9cba",
   "metadata": {},
   "outputs": [],
   "source": [
    "list_1.extend(list_3)"
   ]
  },
  {
   "cell_type": "code",
   "execution_count": 53,
   "id": "a50bdd69",
   "metadata": {},
   "outputs": [
    {
     "name": "stdout",
     "output_type": "stream",
     "text": [
      "[1, 2, 2.5, -99, 'Hey', 'Guys', 'Python', True, False, 12, 30, 13, 13, 'Python', 'Hello', 13, 20, 25, 34, 34.999, 12.883, -9.86, 'Rajesh', 'Sachin', 'Hey', 'Guys', 'how', 'was', 'your', 'day']\n"
     ]
    }
   ],
   "source": [
    "print(list_1)"
   ]
  },
  {
   "cell_type": "code",
   "execution_count": 54,
   "id": "55d89bf7",
   "metadata": {},
   "outputs": [],
   "source": [
    "# remove(), count(), pop(),sort(), reverse()"
   ]
  },
  {
   "cell_type": "code",
   "execution_count": null,
   "id": "f8b5f441",
   "metadata": {},
   "outputs": [],
   "source": []
  }
 ],
 "metadata": {
  "kernelspec": {
   "display_name": "Python 3",
   "language": "python",
   "name": "python3"
  },
  "language_info": {
   "codemirror_mode": {
    "name": "ipython",
    "version": 3
   },
   "file_extension": ".py",
   "mimetype": "text/x-python",
   "name": "python",
   "nbconvert_exporter": "python",
   "pygments_lexer": "ipython3",
   "version": "3.8.8"
  }
 },
 "nbformat": 4,
 "nbformat_minor": 5
}
