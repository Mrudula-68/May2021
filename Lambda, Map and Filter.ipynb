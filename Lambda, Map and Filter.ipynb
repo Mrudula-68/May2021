{
 "cells": [
  {
   "cell_type": "code",
   "execution_count": 1,
   "id": "93b897a6",
   "metadata": {},
   "outputs": [],
   "source": [
    "#Lambda\n",
    "#A lambda function is a small anonymous function or nameless function\n",
    "#they are mostly built when you want a function to be used for a short period of time\n",
    "#A lambda function can take any number of arguements, but can only have one expression\n",
    "#They are mostly used along with the map and filter"
   ]
  },
  {
   "cell_type": "code",
   "execution_count": 2,
   "id": "2c2af36a",
   "metadata": {},
   "outputs": [],
   "source": [
    "# syntax\n",
    "# lambda arugements : expression"
   ]
  },
  {
   "cell_type": "code",
   "execution_count": 3,
   "id": "94036c00",
   "metadata": {},
   "outputs": [
    {
     "data": {
      "text/plain": [
       "100"
      ]
     },
     "execution_count": 3,
     "metadata": {},
     "output_type": "execute_result"
    }
   ],
   "source": [
    "# example of squaring a number one argument\n",
    "\n",
    "#normal function\n",
    "\n",
    "def square(num):\n",
    "    return num**2\n",
    "\n",
    "square(10)"
   ]
  },
  {
   "cell_type": "code",
   "execution_count": 4,
   "id": "ef4c3592",
   "metadata": {},
   "outputs": [],
   "source": [
    "# lamda \n",
    "\n",
    "square  = lambda num: num**2"
   ]
  },
  {
   "cell_type": "code",
   "execution_count": 5,
   "id": "33adde81",
   "metadata": {},
   "outputs": [
    {
     "data": {
      "text/plain": [
       "16"
      ]
     },
     "execution_count": 5,
     "metadata": {},
     "output_type": "execute_result"
    }
   ],
   "source": [
    "square(4)"
   ]
  },
  {
   "cell_type": "code",
   "execution_count": 6,
   "id": "c2e38c00",
   "metadata": {},
   "outputs": [],
   "source": [
    "# example 2\n",
    "#adding multiple number\n",
    "\n",
    "add = lambda x,y,z : x+y+z"
   ]
  },
  {
   "cell_type": "code",
   "execution_count": 7,
   "id": "f4f68848",
   "metadata": {},
   "outputs": [
    {
     "data": {
      "text/plain": [
       "60"
      ]
     },
     "execution_count": 7,
     "metadata": {},
     "output_type": "execute_result"
    }
   ],
   "source": [
    "add(10,20,30)"
   ]
  },
  {
   "cell_type": "code",
   "execution_count": 8,
   "id": "866f7aff",
   "metadata": {},
   "outputs": [],
   "source": [
    "# WE will not use lambda function like this, we will mostly use this with map and filter functions"
   ]
  },
  {
   "cell_type": "code",
   "execution_count": 9,
   "id": "fcdc5976",
   "metadata": {},
   "outputs": [],
   "source": [
    "#MAP\n",
    "#it will allow you to \"map\" a function to a iterable variable or object"
   ]
  },
  {
   "cell_type": "code",
   "execution_count": 10,
   "id": "c256fd1c",
   "metadata": {},
   "outputs": [
    {
     "data": {
      "text/plain": [
       "'\\nmap(function, sequences)\\n\\nit applies the function to all the elements in the sequences\\n'"
      ]
     },
     "execution_count": 10,
     "metadata": {},
     "output_type": "execute_result"
    }
   ],
   "source": [
    "# sytnax of map function\n",
    "\n",
    "'''\n",
    "map(function, sequences)\n",
    "\n",
    "it applies the function to all the elements in the sequences\n",
    "'''"
   ]
  },
  {
   "cell_type": "code",
   "execution_count": 11,
   "id": "a5243353",
   "metadata": {},
   "outputs": [],
   "source": [
    "# example of squaring a number\n",
    "def my_square(num):\n",
    "    return num**2"
   ]
  },
  {
   "cell_type": "code",
   "execution_count": 12,
   "id": "ac00b220",
   "metadata": {},
   "outputs": [
    {
     "data": {
      "text/plain": [
       "16"
      ]
     },
     "execution_count": 12,
     "metadata": {},
     "output_type": "execute_result"
    }
   ],
   "source": [
    "square (4)"
   ]
  },
  {
   "cell_type": "code",
   "execution_count": 13,
   "id": "549b7aff",
   "metadata": {},
   "outputs": [
    {
     "data": {
      "text/plain": [
       "64"
      ]
     },
     "execution_count": 13,
     "metadata": {},
     "output_type": "execute_result"
    }
   ],
   "source": [
    "square(8)"
   ]
  },
  {
   "cell_type": "code",
   "execution_count": 14,
   "id": "fd8b91fc",
   "metadata": {},
   "outputs": [],
   "source": [
    "# sequence of numbers\n",
    "my_nums = [2,3,5,7,9]"
   ]
  },
  {
   "cell_type": "code",
   "execution_count": 15,
   "id": "a579da0a",
   "metadata": {},
   "outputs": [
    {
     "data": {
      "text/plain": [
       "<map at 0x15d1e651910>"
      ]
     },
     "execution_count": 15,
     "metadata": {},
     "output_type": "execute_result"
    }
   ],
   "source": [
    "# map\n",
    "map(my_square, my_nums)"
   ]
  },
  {
   "cell_type": "code",
   "execution_count": 16,
   "id": "388743e3",
   "metadata": {},
   "outputs": [
    {
     "name": "stdout",
     "output_type": "stream",
     "text": [
      "4\n",
      "9\n",
      "25\n",
      "49\n",
      "81\n"
     ]
    }
   ],
   "source": [
    "# to get the result we have to iterate or loop over map object\n",
    "for item in map(my_square,my_nums):\n",
    "    print(item)"
   ]
  },
  {
   "cell_type": "code",
   "execution_count": 17,
   "id": "51a83008",
   "metadata": {},
   "outputs": [
    {
     "data": {
      "text/plain": [
       "[4, 9, 25, 49, 81]"
      ]
     },
     "execution_count": 17,
     "metadata": {},
     "output_type": "execute_result"
    }
   ],
   "source": [
    "list(map(my_square,my_nums))"
   ]
  },
  {
   "cell_type": "code",
   "execution_count": 18,
   "id": "2c3d0b85",
   "metadata": {},
   "outputs": [],
   "source": [
    "#Filter function\n",
    "#The filter function allows you to filter the elements based on the condition given in the function\n",
    "#returns an filter object"
   ]
  },
  {
   "cell_type": "code",
   "execution_count": 19,
   "id": "ff00aa7e",
   "metadata": {},
   "outputs": [
    {
     "data": {
      "text/plain": [
       "'\\nfilter(function,sequences)\\n\\nIt applies the function to all the elements in the sequences and retains only those elements which passes the specific conditions\\n'"
      ]
     },
     "execution_count": 19,
     "metadata": {},
     "output_type": "execute_result"
    }
   ],
   "source": [
    "# syntax of filter\n",
    "\n",
    "'''\n",
    "filter(function,sequences)\n",
    "\n",
    "It applies the function to all the elements in the sequences and retains only those elements which passes the specific conditions\n",
    "'''"
   ]
  },
  {
   "cell_type": "code",
   "execution_count": 20,
   "id": "4a4c1c7b",
   "metadata": {},
   "outputs": [],
   "source": [
    "# example\n",
    "# TO FILTER THE WORDS STARTING WITH 'a'\n",
    "\n",
    "word_list = ['apple','banana','mango','airport', 'ant','cat','annoy']"
   ]
  },
  {
   "cell_type": "code",
   "execution_count": 21,
   "id": "e34b6689",
   "metadata": {},
   "outputs": [],
   "source": [
    "# function\n",
    "def start_with_a(word):\n",
    "    if (word[0] == 'a'):\n",
    "        return True\n",
    "    else:\n",
    "        return False"
   ]
  },
  {
   "cell_type": "code",
   "execution_count": 22,
   "id": "1e7e58a5",
   "metadata": {},
   "outputs": [
    {
     "data": {
      "text/plain": [
       "<filter at 0x15d1e6a5070>"
      ]
     },
     "execution_count": 22,
     "metadata": {},
     "output_type": "execute_result"
    }
   ],
   "source": [
    "filter(start_with_a, word_list)"
   ]
  },
  {
   "cell_type": "code",
   "execution_count": 23,
   "id": "a1afbf78",
   "metadata": {},
   "outputs": [
    {
     "data": {
      "text/plain": [
       "['apple', 'airport', 'ant', 'annoy']"
      ]
     },
     "execution_count": 23,
     "metadata": {},
     "output_type": "execute_result"
    }
   ],
   "source": [
    "list(filter(start_with_a,word_list))"
   ]
  },
  {
   "cell_type": "code",
   "execution_count": 24,
   "id": "ac837b81",
   "metadata": {},
   "outputs": [],
   "source": [
    "# example to filter only the even numbers\n",
    "\n",
    "nums = [0,1,2,3,4,5,6,7,8,9,10]"
   ]
  },
  {
   "cell_type": "code",
   "execution_count": 25,
   "id": "9ee228bd",
   "metadata": {},
   "outputs": [],
   "source": [
    "# function\n",
    "\n",
    "def check_even(num):\n",
    "    if (num%2 ==0):\n",
    "        return True\n",
    "    else:\n",
    "        return False"
   ]
  },
  {
   "cell_type": "code",
   "execution_count": 26,
   "id": "a5088fb9",
   "metadata": {},
   "outputs": [
    {
     "data": {
      "text/plain": [
       "[0, 2, 4, 6, 8, 10]"
      ]
     },
     "execution_count": 26,
     "metadata": {},
     "output_type": "execute_result"
    }
   ],
   "source": [
    "list(filter(check_even,nums))"
   ]
  },
  {
   "cell_type": "code",
   "execution_count": 27,
   "id": "217c28ee",
   "metadata": {},
   "outputs": [
    {
     "data": {
      "text/plain": [
       "[True, False, True, False, True, False, True, False, True, False, True]"
      ]
     },
     "execution_count": 27,
     "metadata": {},
     "output_type": "execute_result"
    }
   ],
   "source": [
    "# CHECKING THE DIFFERENCE BETWEEN FILTER AND MAP\n",
    "list(map(check_even,nums))"
   ]
  },
  {
   "cell_type": "code",
   "execution_count": 28,
   "id": "a1e0f99d",
   "metadata": {},
   "outputs": [
    {
     "data": {
      "text/plain": [
       "[0, 2, 4, 6, 8, 10]"
      ]
     },
     "execution_count": 28,
     "metadata": {},
     "output_type": "execute_result"
    }
   ],
   "source": [
    "list(filter(check_even,nums))"
   ]
  },
  {
   "cell_type": "code",
   "execution_count": 29,
   "id": "84b8c624",
   "metadata": {},
   "outputs": [],
   "source": [
    "#USING LAMBDA WITH MAP() AND FILTER()"
   ]
  },
  {
   "cell_type": "code",
   "execution_count": 30,
   "id": "06c92e4b",
   "metadata": {},
   "outputs": [
    {
     "data": {
      "text/plain": [
       "[100, 400, 900, 1600, 2500]"
      ]
     },
     "execution_count": 30,
     "metadata": {},
     "output_type": "execute_result"
    }
   ],
   "source": [
    "#sequence\n",
    "\n",
    "nums = [10,20,30,40,50]\n",
    "\n",
    "#lambda with map() function\n",
    "\n",
    "list(map(lambda num : num **2 , nums))"
   ]
  },
  {
   "cell_type": "code",
   "execution_count": 31,
   "id": "97250e2c",
   "metadata": {},
   "outputs": [],
   "source": [
    "nums = [0,1,2,3,4,5,6,7,8,9,10]"
   ]
  },
  {
   "cell_type": "code",
   "execution_count": 32,
   "id": "56ba4307",
   "metadata": {},
   "outputs": [
    {
     "data": {
      "text/plain": [
       "[0, 2, 4, 6, 8, 10]"
      ]
     },
     "execution_count": 32,
     "metadata": {},
     "output_type": "execute_result"
    }
   ],
   "source": [
    "#lambda with filter() function\n",
    "\n",
    "list(filter( lambda num : num% 2== 0, nums))"
   ]
  },
  {
   "cell_type": "code",
   "execution_count": null,
   "id": "7291cfda",
   "metadata": {},
   "outputs": [],
   "source": [
    "# TASK\n",
    "\n",
    "# GO THROUGH \n",
    "# reduce()\n",
    "#zip()\n",
    "#enumerate()"
   ]
  }
 ],
 "metadata": {
  "kernelspec": {
   "display_name": "Python 3",
   "language": "python",
   "name": "python3"
  },
  "language_info": {
   "codemirror_mode": {
    "name": "ipython",
    "version": 3
   },
   "file_extension": ".py",
   "mimetype": "text/x-python",
   "name": "python",
   "nbconvert_exporter": "python",
   "pygments_lexer": "ipython3",
   "version": "3.8.8"
  }
 },
 "nbformat": 4,
 "nbformat_minor": 5
}
