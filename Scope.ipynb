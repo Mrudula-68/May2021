{
 "cells": [
  {
   "cell_type": "code",
   "execution_count": 1,
   "id": "e90d86ec",
   "metadata": {},
   "outputs": [],
   "source": [
    "#Scope\n",
    "#A variable is only available from inside the region it is created. This is called scope"
   ]
  },
  {
   "cell_type": "code",
   "execution_count": 2,
   "id": "13cbacd5",
   "metadata": {},
   "outputs": [],
   "source": [
    "#Local Scope\n",
    "# A variable created inside a function belongs to local scope of that function, and can only be used inside a function\n"
   ]
  },
  {
   "cell_type": "code",
   "execution_count": 3,
   "id": "a35791ce",
   "metadata": {},
   "outputs": [],
   "source": [
    "def func1():\n",
    "    x = 30\n",
    "    print(x)"
   ]
  },
  {
   "cell_type": "code",
   "execution_count": 4,
   "id": "52a55bb0",
   "metadata": {},
   "outputs": [
    {
     "name": "stdout",
     "output_type": "stream",
     "text": [
      "30\n"
     ]
    }
   ],
   "source": [
    "# calling func1()\n",
    "func1()"
   ]
  },
  {
   "cell_type": "code",
   "execution_count": 5,
   "id": "cdfbefac",
   "metadata": {},
   "outputs": [
    {
     "ename": "NameError",
     "evalue": "name 'x' is not defined",
     "output_type": "error",
     "traceback": [
      "\u001b[1;31m---------------------------------------------------------------------------\u001b[0m",
      "\u001b[1;31mNameError\u001b[0m                                 Traceback (most recent call last)",
      "\u001b[1;32m<ipython-input-5-ce8658328a1b>\u001b[0m in \u001b[0;36m<module>\u001b[1;34m\u001b[0m\n\u001b[0;32m      1\u001b[0m \u001b[1;31m# printing x outside the function\u001b[0m\u001b[1;33m\u001b[0m\u001b[1;33m\u001b[0m\u001b[1;33m\u001b[0m\u001b[0m\n\u001b[1;32m----> 2\u001b[1;33m \u001b[0mprint\u001b[0m\u001b[1;33m(\u001b[0m\u001b[0mx\u001b[0m\u001b[1;33m)\u001b[0m \u001b[1;31m# error, # not accessible out the function\u001b[0m\u001b[1;33m\u001b[0m\u001b[1;33m\u001b[0m\u001b[0m\n\u001b[0m",
      "\u001b[1;31mNameError\u001b[0m: name 'x' is not defined"
     ]
    }
   ],
   "source": [
    "# printing x outside the function \n",
    "print(x) # error, # not accessible out the function"
   ]
  },
  {
   "cell_type": "code",
   "execution_count": 6,
   "id": "23254581",
   "metadata": {},
   "outputs": [],
   "source": [
    "#Enclosing Scope\n",
    "#Inner functions can have access to the outer or enclosing function's variables"
   ]
  },
  {
   "cell_type": "code",
   "execution_count": 7,
   "id": "bd14bf55",
   "metadata": {},
   "outputs": [],
   "source": [
    "def outer_func():\n",
    "    x  = 100\n",
    "    print(\"Outer Function\" ,x)\n",
    "    def inner_func():\n",
    "        print(\"Inner function\", x)\n",
    "    \n",
    "    inner_func()"
   ]
  },
  {
   "cell_type": "code",
   "execution_count": 8,
   "id": "2cafffec",
   "metadata": {},
   "outputs": [
    {
     "name": "stdout",
     "output_type": "stream",
     "text": [
      "Outer Function 100\n",
      "Inner function 100\n"
     ]
    }
   ],
   "source": [
    "outer_func()"
   ]
  },
  {
   "cell_type": "code",
   "execution_count": 9,
   "id": "7fe47ef8",
   "metadata": {},
   "outputs": [],
   "source": [
    "#Global Scope\n",
    "#A variable created in the main body of the python code is a global variable and belongs to the global scope. Global variables are available from within any scope, global and local"
   ]
  },
  {
   "cell_type": "code",
   "execution_count": 10,
   "id": "90201c3b",
   "metadata": {},
   "outputs": [
    {
     "name": "stdout",
     "output_type": "stream",
     "text": [
      "Global Variable is : 400\n",
      "my func:  400\n",
      "my inner function :  400\n"
     ]
    }
   ],
   "source": [
    "x = 400\n",
    "\n",
    "def my_func1():\n",
    "    print('my func: ', x)\n",
    "    \n",
    "    def my_inner_func1():\n",
    "        print(\"my inner function : \", x)\n",
    "        \n",
    "    my_inner_func1()\n",
    "\n",
    "print(\"Global Variable is :\", x)\n",
    "my_func1()"
   ]
  },
  {
   "cell_type": "code",
   "execution_count": 11,
   "id": "38e160e9",
   "metadata": {},
   "outputs": [
    {
     "data": {
      "text/plain": [
       "410"
      ]
     },
     "execution_count": 11,
     "metadata": {},
     "output_type": "execute_result"
    }
   ],
   "source": [
    "c  = x+ 10\n",
    "c"
   ]
  },
  {
   "cell_type": "code",
   "execution_count": 12,
   "id": "218afe12",
   "metadata": {},
   "outputs": [],
   "source": [
    "#How to change global variables inside functions"
   ]
  },
  {
   "cell_type": "code",
   "execution_count": 13,
   "id": "e8e42a09",
   "metadata": {},
   "outputs": [
    {
     "name": "stdout",
     "output_type": "stream",
     "text": [
      "local 100\n",
      "Global 200\n"
     ]
    }
   ],
   "source": [
    "x  = 200\n",
    "\n",
    "def my_fun():\n",
    "    x = 100\n",
    "    print('local', x)\n",
    "    \n",
    "my_fun()\n",
    "print(\"Global\" , x)"
   ]
  },
  {
   "cell_type": "code",
   "execution_count": 14,
   "id": "191c8b8d",
   "metadata": {},
   "outputs": [],
   "source": [
    "#Global Keyword"
   ]
  },
  {
   "cell_type": "code",
   "execution_count": 15,
   "id": "f5f7eedc",
   "metadata": {},
   "outputs": [
    {
     "name": "stdout",
     "output_type": "stream",
     "text": [
      "local 200\n",
      "converted from local to global 200\n",
      "global 300\n"
     ]
    }
   ],
   "source": [
    "x1 = 300\n",
    "\n",
    "def my_fun():\n",
    "    global x\n",
    "    x = 200\n",
    "    \n",
    "    print('local', x)\n",
    "\n",
    "my_fun()\n",
    "print('converted from local to global', x)\n",
    "print(\"global\", x1)"
   ]
  },
  {
   "cell_type": "code",
   "execution_count": null,
   "id": "6a9a7744",
   "metadata": {},
   "outputs": [],
   "source": []
  }
 ],
 "metadata": {
  "kernelspec": {
   "display_name": "Python 3",
   "language": "python",
   "name": "python3"
  },
  "language_info": {
   "codemirror_mode": {
    "name": "ipython",
    "version": 3
   },
   "file_extension": ".py",
   "mimetype": "text/x-python",
   "name": "python",
   "nbconvert_exporter": "python",
   "pygments_lexer": "ipython3",
   "version": "3.8.8"
  }
 },
 "nbformat": 4,
 "nbformat_minor": 5
}
