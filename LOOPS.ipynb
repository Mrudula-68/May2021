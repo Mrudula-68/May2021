{
 "cells": [
  {
   "cell_type": "code",
   "execution_count": 1,
   "id": "40c93c06",
   "metadata": {},
   "outputs": [],
   "source": [
    "#The main purpose of loops is to repeat the same code or similar task for a period a for a number of times.\n",
    "#The number of times can be specified to a certain number or the number of times could be dictated by a certain condition being met by us manually"
   ]
  },
  {
   "cell_type": "code",
   "execution_count": 2,
   "id": "3f684d6e",
   "metadata": {},
   "outputs": [],
   "source": [
    "# THERE ARE TWO TYPES OF LOOPS\n",
    "# 1. FOR LOOP\n",
    "# 2. WHILE LOOP"
   ]
  },
  {
   "cell_type": "code",
   "execution_count": 3,
   "id": "243405aa",
   "metadata": {},
   "outputs": [
    {
     "name": "stdout",
     "output_type": "stream",
     "text": [
      "1\n",
      "2\n",
      "3\n",
      "4\n",
      "5\n",
      "6\n",
      "7\n",
      "8\n",
      "9\n",
      "10\n"
     ]
    }
   ],
   "source": [
    "print(1)\n",
    "print(2)\n",
    "print(3)\n",
    "print(4)\n",
    "print(5)\n",
    "print(6)\n",
    "print(7)\n",
    "print(8)\n",
    "print(9)\n",
    "print(10)"
   ]
  },
  {
   "cell_type": "code",
   "execution_count": 4,
   "id": "939e5bea",
   "metadata": {},
   "outputs": [
    {
     "data": {
      "text/plain": [
       "' syntax of while loop\\n\\nwhile(condition/s):\\n    statement1\\n    statement2\\n    ..........\\n'"
      ]
     },
     "execution_count": 4,
     "metadata": {},
     "output_type": "execute_result"
    }
   ],
   "source": [
    "\"\"\" syntax of while loop\n",
    "\n",
    "while(condition/s):\n",
    "    statement1\n",
    "    statement2\n",
    "    ..........\n",
    "\"\"\""
   ]
  },
  {
   "cell_type": "code",
   "execution_count": 5,
   "id": "162f5920",
   "metadata": {},
   "outputs": [
    {
     "name": "stdout",
     "output_type": "stream",
     "text": [
      "1\n",
      "2\n",
      "3\n",
      "4\n",
      "5\n",
      "6\n",
      "7\n",
      "8\n",
      "9\n",
      "10\n"
     ]
    }
   ],
   "source": [
    "#example\n",
    "\n",
    "count = 1\n",
    "\n",
    "while(count<11):\n",
    "    print(count)\n",
    "    count = count+1"
   ]
  },
  {
   "cell_type": "code",
   "execution_count": 6,
   "id": "8f939602",
   "metadata": {},
   "outputs": [
    {
     "name": "stdout",
     "output_type": "stream",
     "text": [
      "1\n",
      "2\n",
      "3\n",
      "4\n",
      "5\n",
      "6\n",
      "7\n",
      "8\n",
      "9\n",
      "10\n",
      "End of while loop and my final output is  11\n"
     ]
    }
   ],
   "source": [
    "# WHILE - ELSE \n",
    "# IF YOU WANT TO KNOW YOUR WHILE LOOP HAS FINISHED IT'S EXECUTION AND YOU WANT TO DO SOME OPERATIONS THEN YOU CAN MAKE USE OF \"ELSE\"\n",
    "\n",
    "# 2\n",
    "\n",
    "#example\n",
    "\n",
    "count = 1\n",
    "\n",
    "while(count<11):\n",
    "    print(count)\n",
    "    count = count+1\n",
    "else:\n",
    "    print(\"End of while loop and my final output is \",count)"
   ]
  },
  {
   "cell_type": "code",
   "execution_count": 7,
   "id": "4ebf098e",
   "metadata": {},
   "outputs": [],
   "source": [
    "# Break \n",
    "# BREAK KEYWORD IS USED TO BREAK OUT THE LOOP OR COME OUT OF THE LOOP"
   ]
  },
  {
   "cell_type": "code",
   "execution_count": 8,
   "id": "c58b99fd",
   "metadata": {},
   "outputs": [
    {
     "name": "stdout",
     "output_type": "stream",
     "text": [
      "1\n",
      "2\n",
      "3\n",
      "4\n",
      "5\n"
     ]
    }
   ],
   "source": [
    "#EXAMPLE\n",
    "count = 1\n",
    "\n",
    "while(count<11):\n",
    "    if(count == 5):\n",
    "        print(count)\n",
    "        break\n",
    "    else:\n",
    "        print(count)\n",
    "        count = count+1"
   ]
  },
  {
   "cell_type": "code",
   "execution_count": 9,
   "id": "422463ea",
   "metadata": {},
   "outputs": [
    {
     "name": "stdout",
     "output_type": "stream",
     "text": [
      "2\n",
      "4\n",
      "6\n",
      "8\n",
      "10\n"
     ]
    }
   ],
   "source": [
    "#CONTINUE\n",
    "#CONTINUE KEYWORD TAKES THE EXECUTION TO THE BEGINNING OF THE LOOP. IN MORE SIMPLE TERMS IT WILL SKIP THAT PARTICULAR ITERATION\n",
    "\n",
    "#print only even numbers\n",
    "\n",
    "count = 0\n",
    "while(count<11):\n",
    "    count = count+1\n",
    "    if(count%2 != 0):\n",
    "        continue\n",
    "    print(count)"
   ]
  },
  {
   "cell_type": "code",
   "execution_count": 10,
   "id": "17a46b6e",
   "metadata": {},
   "outputs": [],
   "source": [
    "#FOR LOOP\n",
    "# FOR LOOPS ARE BASICALLY USED TO LOOP OVER A SEQUENCE\n",
    "# SEQUENCE CAN BE ANYTHING LIKE STRING, LIST, TUPLES, DICTIONARIES SETS ETC"
   ]
  },
  {
   "cell_type": "code",
   "execution_count": 11,
   "id": "9772eed2",
   "metadata": {},
   "outputs": [
    {
     "data": {
      "text/plain": [
       "' SYNTAX OF FOR LOOP\\n\\nfor item in seq:\\n    statemen1\\n    statement2\\n    ...........\\n'"
      ]
     },
     "execution_count": 11,
     "metadata": {},
     "output_type": "execute_result"
    }
   ],
   "source": [
    "\"\"\" SYNTAX OF FOR LOOP\n",
    "\n",
    "for item in seq:\n",
    "    statemen1\n",
    "    statement2\n",
    "    ...........\n",
    "\"\"\""
   ]
  },
  {
   "cell_type": "code",
   "execution_count": 12,
   "id": "e72c173d",
   "metadata": {},
   "outputs": [
    {
     "name": "stdout",
     "output_type": "stream",
     "text": [
      "P\n",
      "r\n",
      "o\n",
      "g\n",
      "r\n",
      "a\n",
      "m\n",
      "m\n",
      "i\n",
      "n\n",
      "g\n"
     ]
    }
   ],
   "source": [
    "# LOOPING OVER A STRING\n",
    "\n",
    "string = \"Programming\"\n",
    "\n",
    "for item in string:\n",
    "    print(item)"
   ]
  },
  {
   "cell_type": "code",
   "execution_count": 13,
   "id": "9854fbb4",
   "metadata": {},
   "outputs": [
    {
     "name": "stdout",
     "output_type": "stream",
     "text": [
      "1\n",
      "2\n",
      "3\n",
      "4\n",
      "5\n",
      "6\n"
     ]
    }
   ],
   "source": [
    "# loop over a list\n",
    "\n",
    "list1 = [1,2,3,4,5,6]\n",
    "\n",
    "for item in list1:\n",
    "    print(item)"
   ]
  },
  {
   "cell_type": "code",
   "execution_count": 14,
   "id": "51c5cb2f",
   "metadata": {},
   "outputs": [],
   "source": [
    "# range(start,stop,step)\n",
    "#start -- starting position default value is 0\n",
    "#stop -- end position(exclusive) default(end position)\n",
    "#step -- step size or increment of size (default value is 1)\n",
    "\n",
    "#range(5) --> 5 times you run the loop or 5 is the stop parameter\n",
    "#range(1,10) --> 1 is start and 10 is stop\n",
    "#range(1,10,2) --> 1 is start, 10 is stop and 2 is increment"
   ]
  },
  {
   "cell_type": "code",
   "execution_count": 15,
   "id": "1672b81d",
   "metadata": {},
   "outputs": [
    {
     "name": "stdout",
     "output_type": "stream",
     "text": [
      "0\n",
      "1\n",
      "2\n",
      "3\n",
      "4\n",
      "5\n",
      "6\n",
      "7\n",
      "8\n",
      "9\n",
      "10\n"
     ]
    }
   ],
   "source": [
    "for i in range(11):\n",
    "    print(i)"
   ]
  },
  {
   "cell_type": "code",
   "execution_count": 16,
   "id": "99b2eb16",
   "metadata": {},
   "outputs": [
    {
     "name": "stdout",
     "output_type": "stream",
     "text": [
      "1\n",
      "2\n",
      "3\n",
      "4\n",
      "5\n",
      "6\n",
      "7\n",
      "8\n",
      "9\n"
     ]
    }
   ],
   "source": [
    "for i in range(1,10):\n",
    "    print(i)"
   ]
  },
  {
   "cell_type": "code",
   "execution_count": 17,
   "id": "af765fef",
   "metadata": {},
   "outputs": [
    {
     "name": "stdout",
     "output_type": "stream",
     "text": [
      "1\n",
      "3\n",
      "5\n",
      "7\n",
      "9\n"
     ]
    }
   ],
   "source": [
    "for i in range(1,10,2):\n",
    "    print(i)"
   ]
  },
  {
   "cell_type": "code",
   "execution_count": 18,
   "id": "de377171",
   "metadata": {
    "scrolled": true
   },
   "outputs": [
    {
     "name": "stdout",
     "output_type": "stream",
     "text": [
      "10\n",
      "9\n",
      "8\n",
      "7\n",
      "6\n",
      "5\n",
      "4\n",
      "3\n",
      "2\n",
      "1\n"
     ]
    }
   ],
   "source": [
    "# looping in reverse order from 10 to 1\n",
    "for i in range(10,0,-1):\n",
    "    print(i)"
   ]
  },
  {
   "cell_type": "code",
   "execution_count": 19,
   "id": "5167f29f",
   "metadata": {},
   "outputs": [
    {
     "name": "stdout",
     "output_type": "stream",
     "text": [
      "0\n",
      "1\n",
      "2\n",
      "3\n",
      "4\n",
      "5\n",
      "6\n",
      "7\n"
     ]
    }
   ],
   "source": [
    "#using break inside the for loops\n",
    "\n",
    "for i in range(10):\n",
    "    if (i == 8):\n",
    "        break\n",
    "    print(i)"
   ]
  },
  {
   "cell_type": "code",
   "execution_count": 20,
   "id": "b7edbcc4",
   "metadata": {},
   "outputs": [
    {
     "name": "stdout",
     "output_type": "stream",
     "text": [
      "0\n",
      "1\n",
      "2\n",
      "4\n",
      "5\n",
      "6\n",
      "7\n"
     ]
    }
   ],
   "source": [
    "# using continue inside the for loops\n",
    "# let just say that you don't want to print 3, 8, 9\n",
    "\n",
    "for i in range(10):\n",
    "    if(i == 3 or i == 8 or i ==9):\n",
    "        continue\n",
    "    print(i)"
   ]
  },
  {
   "cell_type": "code",
   "execution_count": 21,
   "id": "d0f13149",
   "metadata": {},
   "outputs": [],
   "source": [
    "# PASS \n",
    "# PASS KEYWORD DOES NOTHING BUT YOU CAN AVOID GETTING AN ERROR WHEN EMPTY CODE IS NOT ALLOWED. EMPTY CODE ARE NOT ALLOWED IN LOOPS,IF ELSE CONDITIONS, FUNCTIONS,CLASSES\n",
    "\n",
    "if(4>2):\n",
    "    pass"
   ]
  },
  {
   "cell_type": "code",
   "execution_count": 22,
   "id": "821538cf",
   "metadata": {},
   "outputs": [],
   "source": [
    "if(4<2):\n",
    "    print(\"Hello\")\n",
    "else:\n",
    "    pass"
   ]
  },
  {
   "cell_type": "code",
   "execution_count": null,
   "id": "4f0e3ee2",
   "metadata": {},
   "outputs": [],
   "source": [
    "# TASK \n",
    "#USING WHILE LOOP PRINT NUMBERS FROM 10 TO 1\n",
    "#TRY USING FOR LOOP TO LOOP OVER TUPLES, SETS, AND DICTIONARY\n",
    "# DRAW A FLOWCHART OF CONTROL STATEMENTS AND WHILE LOOP AND FOR LOOP"
   ]
  }
 ],
 "metadata": {
  "kernelspec": {
   "display_name": "Python 3",
   "language": "python",
   "name": "python3"
  },
  "language_info": {
   "codemirror_mode": {
    "name": "ipython",
    "version": 3
   },
   "file_extension": ".py",
   "mimetype": "text/x-python",
   "name": "python",
   "nbconvert_exporter": "python",
   "pygments_lexer": "ipython3",
   "version": "3.8.8"
  }
 },
 "nbformat": 4,
 "nbformat_minor": 5
}
