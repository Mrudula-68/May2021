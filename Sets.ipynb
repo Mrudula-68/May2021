{
 "cells": [
  {
   "cell_type": "code",
   "execution_count": 3,
   "id": "4552d8f0",
   "metadata": {},
   "outputs": [],
   "source": [
    "#Sets\n",
    "#In python sets are written with curly brackets\n",
    "\n",
    "# few points about sets 1. Can store different data type 2. Duplicate values are not allowed 3. Indexing and Slicing is not possible 4. It is mutable"
   ]
  },
  {
   "cell_type": "code",
   "execution_count": 4,
   "id": "0f1d5360",
   "metadata": {},
   "outputs": [],
   "source": [
    "set1 = {2,3,44.5,-6.88,'programming','python',4,3,2}"
   ]
  },
  {
   "cell_type": "code",
   "execution_count": 5,
   "id": "40e02e76",
   "metadata": {},
   "outputs": [
    {
     "name": "stdout",
     "output_type": "stream",
     "text": [
      "{2, 3, 4, 44.5, 'python', 'programming', -6.88}\n"
     ]
    }
   ],
   "source": [
    "print(set1)"
   ]
  },
  {
   "cell_type": "code",
   "execution_count": 6,
   "id": "1d5b911b",
   "metadata": {},
   "outputs": [],
   "source": [
    "set2 = {1,2,3,4,4,1,2,1,1,4,3}"
   ]
  },
  {
   "cell_type": "code",
   "execution_count": 7,
   "id": "7dc18255",
   "metadata": {},
   "outputs": [
    {
     "name": "stdout",
     "output_type": "stream",
     "text": [
      "{1, 2, 3, 4}\n"
     ]
    }
   ],
   "source": [
    "print(set2)"
   ]
  },
  {
   "cell_type": "code",
   "execution_count": 8,
   "id": "c7d1da77",
   "metadata": {},
   "outputs": [
    {
     "data": {
      "text/plain": [
       "set"
      ]
     },
     "execution_count": 8,
     "metadata": {},
     "output_type": "execute_result"
    }
   ],
   "source": [
    "type(set2)"
   ]
  },
  {
   "cell_type": "code",
   "execution_count": 9,
   "id": "b3f98204",
   "metadata": {},
   "outputs": [
    {
     "data": {
      "text/plain": [
       "4"
      ]
     },
     "execution_count": 9,
     "metadata": {},
     "output_type": "execute_result"
    }
   ],
   "source": [
    "# checking the length\n",
    "\n",
    "len(set2)"
   ]
  },
  {
   "cell_type": "code",
   "execution_count": 10,
   "id": "f12cd708",
   "metadata": {},
   "outputs": [
    {
     "ename": "TypeError",
     "evalue": "'set' object is not subscriptable",
     "output_type": "error",
     "traceback": [
      "\u001b[1;31m---------------------------------------------------------------------------\u001b[0m",
      "\u001b[1;31mTypeError\u001b[0m                                 Traceback (most recent call last)",
      "\u001b[1;32m<ipython-input-10-bf03a1421b7f>\u001b[0m in \u001b[0;36m<module>\u001b[1;34m\u001b[0m\n\u001b[0;32m      1\u001b[0m \u001b[1;31m# indexing and slicing in sets (it is not allowed)\u001b[0m\u001b[1;33m\u001b[0m\u001b[1;33m\u001b[0m\u001b[1;33m\u001b[0m\u001b[0m\n\u001b[0;32m      2\u001b[0m \u001b[1;33m\u001b[0m\u001b[0m\n\u001b[1;32m----> 3\u001b[1;33m \u001b[0mset2\u001b[0m\u001b[1;33m[\u001b[0m\u001b[1;36m0\u001b[0m\u001b[1;33m:\u001b[0m\u001b[1;36m2\u001b[0m\u001b[1;33m]\u001b[0m\u001b[1;33m\u001b[0m\u001b[1;33m\u001b[0m\u001b[0m\n\u001b[0m",
      "\u001b[1;31mTypeError\u001b[0m: 'set' object is not subscriptable"
     ]
    }
   ],
   "source": [
    "# indexing and slicing in sets (it is not allowed)\n",
    "\n",
    "set2[0:2]"
   ]
  },
  {
   "cell_type": "code",
   "execution_count": 11,
   "id": "c14f3d62",
   "metadata": {},
   "outputs": [
    {
     "name": "stdout",
     "output_type": "stream",
     "text": [
      "{}\n"
     ]
    }
   ],
   "source": [
    "# Empty Set\n",
    "\n",
    "set3 = {}\n",
    "print(set3)"
   ]
  },
  {
   "cell_type": "code",
   "execution_count": 12,
   "id": "5d17b5d6",
   "metadata": {},
   "outputs": [
    {
     "data": {
      "text/plain": [
       "dict"
      ]
     },
     "execution_count": 12,
     "metadata": {},
     "output_type": "execute_result"
    }
   ],
   "source": [
    "type(set3)"
   ]
  },
  {
   "cell_type": "code",
   "execution_count": 13,
   "id": "65ed6e5b",
   "metadata": {},
   "outputs": [
    {
     "name": "stdout",
     "output_type": "stream",
     "text": [
      "set()\n"
     ]
    }
   ],
   "source": [
    "# to build an empty set we have to use the inbuilt set function which is set()\n",
    "set3 = set()\n",
    "print(set3)"
   ]
  },
  {
   "cell_type": "code",
   "execution_count": 14,
   "id": "2e6eb3d5",
   "metadata": {},
   "outputs": [
    {
     "data": {
      "text/plain": [
       "set"
      ]
     },
     "execution_count": 14,
     "metadata": {},
     "output_type": "execute_result"
    }
   ],
   "source": [
    "type(set3)"
   ]
  },
  {
   "cell_type": "code",
   "execution_count": 15,
   "id": "28905607",
   "metadata": {},
   "outputs": [
    {
     "name": "stdout",
     "output_type": "stream",
     "text": [
      "{3, 4, 5, 6, 7, 8}\n"
     ]
    }
   ],
   "source": [
    "set2 = {3,4,5,6,8,7}\n",
    "print(set2)"
   ]
  },
  {
   "cell_type": "code",
   "execution_count": 16,
   "id": "8f02897a",
   "metadata": {},
   "outputs": [
    {
     "name": "stdout",
     "output_type": "stream",
     "text": [
      "{3, 4, 5, 6, 7, 8}\n"
     ]
    }
   ],
   "source": [
    "# Using inbuilt functions will add new elements in the set\n",
    "\n",
    "# * TO add elements we use function named --> add(item)\n",
    "\n",
    "set2.add(5)\n",
    "print(set2)"
   ]
  },
  {
   "cell_type": "code",
   "execution_count": 17,
   "id": "f8219f8e",
   "metadata": {},
   "outputs": [
    {
     "name": "stdout",
     "output_type": "stream",
     "text": [
      "{3, 4, 5, 6, 7, 8, 'hello'}\n"
     ]
    }
   ],
   "source": [
    "set2.add('hello')\n",
    "print(set2)"
   ]
  },
  {
   "cell_type": "code",
   "execution_count": 18,
   "id": "3d75f031",
   "metadata": {},
   "outputs": [
    {
     "name": "stdout",
     "output_type": "stream",
     "text": [
      "{3, 4, 5, 6, 7, 8, 'hello'}\n"
     ]
    }
   ],
   "source": [
    "set2.add(5)\n",
    "print(set2)"
   ]
  },
  {
   "cell_type": "code",
   "execution_count": 19,
   "id": "560ce19d",
   "metadata": {},
   "outputs": [],
   "source": [
    "# IF you want to add more than one items. I can do that using the inbuilt function called .update(list)\n",
    "\n",
    "set2.update([22,3.562,'hi'])"
   ]
  },
  {
   "cell_type": "code",
   "execution_count": 20,
   "id": "6fc45fac",
   "metadata": {},
   "outputs": [
    {
     "name": "stdout",
     "output_type": "stream",
     "text": [
      "{3, 4, 5, 6, 7, 8, 3.562, 'hi', 22, 'hello'}\n"
     ]
    }
   ],
   "source": [
    "print(set2)"
   ]
  },
  {
   "cell_type": "code",
   "execution_count": 21,
   "id": "333fdd6b",
   "metadata": {},
   "outputs": [
    {
     "data": {
      "text/plain": [
       "{22, 3, 3.562, 4, 5, 6, 7, 8, 'hello', 'hi'}"
      ]
     },
     "execution_count": 21,
     "metadata": {},
     "output_type": "execute_result"
    }
   ],
   "source": [
    "# copy\n",
    "\n",
    "set3 = set2.copy()\n",
    "set3"
   ]
  },
  {
   "cell_type": "code",
   "execution_count": 22,
   "id": "ad12eaea",
   "metadata": {},
   "outputs": [
    {
     "data": {
      "text/plain": [
       "{22, 3, 3.562, 4, 5, 6, 7, 8, 'hello', 'hi'}"
      ]
     },
     "execution_count": 22,
     "metadata": {},
     "output_type": "execute_result"
    }
   ],
   "source": [
    "# to remove an specified item from the set, Will use a function named .remove(item)\n",
    "\n",
    "set2"
   ]
  },
  {
   "cell_type": "code",
   "execution_count": 23,
   "id": "620c57aa",
   "metadata": {},
   "outputs": [],
   "source": [
    "set2.remove(3.562)"
   ]
  },
  {
   "cell_type": "code",
   "execution_count": 24,
   "id": "f251fbd7",
   "metadata": {},
   "outputs": [
    {
     "data": {
      "text/plain": [
       "{22, 3, 4, 5, 6, 7, 8, 'hello', 'hi'}"
      ]
     },
     "execution_count": 24,
     "metadata": {},
     "output_type": "execute_result"
    }
   ],
   "source": [
    "set2"
   ]
  },
  {
   "cell_type": "code",
   "execution_count": 25,
   "id": "3effbfe8",
   "metadata": {},
   "outputs": [],
   "source": [
    "set2.remove('hi')"
   ]
  },
  {
   "cell_type": "code",
   "execution_count": 26,
   "id": "eaf70777",
   "metadata": {},
   "outputs": [
    {
     "data": {
      "text/plain": [
       "{22, 3, 4, 5, 6, 7, 8, 'hello'}"
      ]
     },
     "execution_count": 26,
     "metadata": {},
     "output_type": "execute_result"
    }
   ],
   "source": [
    "set2"
   ]
  },
  {
   "cell_type": "code",
   "execution_count": 27,
   "id": "2d50ba6b",
   "metadata": {
    "scrolled": true
   },
   "outputs": [
    {
     "ename": "KeyError",
     "evalue": "'hi'",
     "output_type": "error",
     "traceback": [
      "\u001b[1;31m---------------------------------------------------------------------------\u001b[0m",
      "\u001b[1;31mKeyError\u001b[0m                                  Traceback (most recent call last)",
      "\u001b[1;32m<ipython-input-27-93bb47dd2262>\u001b[0m in \u001b[0;36m<module>\u001b[1;34m\u001b[0m\n\u001b[0;32m      1\u001b[0m \u001b[1;31m# removing the element which is not present\u001b[0m\u001b[1;33m\u001b[0m\u001b[1;33m\u001b[0m\u001b[1;33m\u001b[0m\u001b[0m\n\u001b[1;32m----> 2\u001b[1;33m \u001b[0mset2\u001b[0m\u001b[1;33m.\u001b[0m\u001b[0mremove\u001b[0m\u001b[1;33m(\u001b[0m\u001b[1;34m'hi'\u001b[0m\u001b[1;33m)\u001b[0m\u001b[1;33m\u001b[0m\u001b[1;33m\u001b[0m\u001b[0m\n\u001b[0m",
      "\u001b[1;31mKeyError\u001b[0m: 'hi'"
     ]
    }
   ],
   "source": [
    "# removing the element which is not present\n",
    "set2.remove('hi')"
   ]
  },
  {
   "cell_type": "code",
   "execution_count": 28,
   "id": "2145044f",
   "metadata": {},
   "outputs": [
    {
     "data": {
      "text/plain": [
       "{3, 4, 5, 6, 7, 8, 22}"
      ]
     },
     "execution_count": 28,
     "metadata": {},
     "output_type": "execute_result"
    }
   ],
   "source": [
    "# Now removing the elements from a set using a function called .discard(item)\n",
    "\n",
    "set2.discard('hello')\n",
    "set2"
   ]
  },
  {
   "cell_type": "code",
   "execution_count": 29,
   "id": "2cbcc96a",
   "metadata": {},
   "outputs": [],
   "source": [
    "set2.discard('hello') # if we are trying to remove the element which isn't present in the sets  using the discard function it won't throw any error message"
   ]
  },
  {
   "cell_type": "code",
   "execution_count": 30,
   "id": "23a50add",
   "metadata": {},
   "outputs": [
    {
     "data": {
      "text/plain": [
       "1"
      ]
     },
     "execution_count": 30,
     "metadata": {},
     "output_type": "execute_result"
    }
   ],
   "source": [
    "# sets are unordered , so when we are using the pop() method , you will not know which item is removed\n",
    "\n",
    "set4 = {'a',1,'b',2,'c',3,4,'d'}\n",
    "set4.pop()"
   ]
  },
  {
   "cell_type": "code",
   "execution_count": 31,
   "id": "e56e295d",
   "metadata": {},
   "outputs": [
    {
     "data": {
      "text/plain": [
       "2"
      ]
     },
     "execution_count": 31,
     "metadata": {},
     "output_type": "execute_result"
    }
   ],
   "source": [
    "set4.pop()"
   ]
  },
  {
   "cell_type": "code",
   "execution_count": 32,
   "id": "ba7b1f7d",
   "metadata": {},
   "outputs": [
    {
     "data": {
      "text/plain": [
       "3"
      ]
     },
     "execution_count": 32,
     "metadata": {},
     "output_type": "execute_result"
    }
   ],
   "source": [
    "set4.pop()"
   ]
  },
  {
   "cell_type": "code",
   "execution_count": 33,
   "id": "29467d75",
   "metadata": {},
   "outputs": [
    {
     "data": {
      "text/plain": [
       "{4, 'a', 'b', 'c', 'd'}"
      ]
     },
     "execution_count": 33,
     "metadata": {},
     "output_type": "execute_result"
    }
   ],
   "source": [
    "set4"
   ]
  },
  {
   "cell_type": "code",
   "execution_count": 34,
   "id": "27e91c86",
   "metadata": {},
   "outputs": [
    {
     "data": {
      "text/plain": [
       "set()"
      ]
     },
     "execution_count": 34,
     "metadata": {},
     "output_type": "execute_result"
    }
   ],
   "source": [
    "# clear() --> It will clear all the items inside the set and restore the data type\n",
    "\n",
    "set4.clear()\n",
    "set4"
   ]
  },
  {
   "cell_type": "code",
   "execution_count": 35,
   "id": "f37c563f",
   "metadata": {},
   "outputs": [],
   "source": [
    "# WORKING WITH FEW INBUILT FUNCTIONS \n",
    "# union()\n",
    "#intersection()"
   ]
  },
  {
   "cell_type": "code",
   "execution_count": 36,
   "id": "63d8f231",
   "metadata": {},
   "outputs": [],
   "source": [
    "set1 = {2,3,4,56,8,9,10,'python'}\n",
    "set2 = {3,4,10, 23.5,44.567,'programming','python'}"
   ]
  },
  {
   "cell_type": "code",
   "execution_count": 37,
   "id": "c7a5c9d0",
   "metadata": {},
   "outputs": [
    {
     "name": "stdout",
     "output_type": "stream",
     "text": [
      "{2, 3, 4, 8, 9, 10, 'python', 56} {3, 4, 10, 44.567, 'python', 'programming', 23.5}\n"
     ]
    }
   ],
   "source": [
    "print(set1,set2)"
   ]
  },
  {
   "cell_type": "code",
   "execution_count": 38,
   "id": "00b17ab8",
   "metadata": {},
   "outputs": [],
   "source": [
    "set3 = set1.union(set2)"
   ]
  },
  {
   "cell_type": "code",
   "execution_count": 39,
   "id": "bf0998b9",
   "metadata": {},
   "outputs": [
    {
     "name": "stdout",
     "output_type": "stream",
     "text": [
      "{2, 3, 4, 8, 9, 10, 44.567, 'python', 'programming', 23.5, 56}\n"
     ]
    }
   ],
   "source": [
    "print(set3)"
   ]
  },
  {
   "cell_type": "code",
   "execution_count": 40,
   "id": "8a3ec2b6",
   "metadata": {},
   "outputs": [],
   "source": [
    "# working with the intersection\n",
    "\n",
    "set4 = set1.intersection(set2)"
   ]
  },
  {
   "cell_type": "code",
   "execution_count": 41,
   "id": "79785de9",
   "metadata": {},
   "outputs": [
    {
     "name": "stdout",
     "output_type": "stream",
     "text": [
      "{10, 3, 4, 'python'}\n"
     ]
    }
   ],
   "source": [
    "print(set4)"
   ]
  },
  {
   "cell_type": "code",
   "execution_count": 42,
   "id": "771a24ca",
   "metadata": {},
   "outputs": [],
   "source": [
    "# Task on sets , going through few inbuilt functions\n",
    "# 1) difference(), 2) symmetric_difference()"
   ]
  },
  {
   "cell_type": "code",
   "execution_count": 43,
   "id": "8023481c",
   "metadata": {},
   "outputs": [],
   "source": [
    "# MAKE A TABLE OF ALL THE INBUILT DATA TYPES  AND POINT OUT THE DIFFERENCE ONE BY ONE"
   ]
  },
  {
   "cell_type": "code",
   "execution_count": null,
   "id": "4ea831ef",
   "metadata": {},
   "outputs": [],
   "source": []
  }
 ],
 "metadata": {
  "kernelspec": {
   "display_name": "Python 3",
   "language": "python",
   "name": "python3"
  },
  "language_info": {
   "codemirror_mode": {
    "name": "ipython",
    "version": 3
   },
   "file_extension": ".py",
   "mimetype": "text/x-python",
   "name": "python",
   "nbconvert_exporter": "python",
   "pygments_lexer": "ipython3",
   "version": "3.8.8"
  }
 },
 "nbformat": 4,
 "nbformat_minor": 5
}
