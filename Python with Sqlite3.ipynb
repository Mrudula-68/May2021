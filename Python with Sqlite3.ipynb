{
 "cells": [
  {
   "cell_type": "code",
   "execution_count": 1,
   "id": "de2aa6cf",
   "metadata": {
    "scrolled": false
   },
   "outputs": [
    {
     "name": "stdout",
     "output_type": "stream",
     "text": [
      "Data Base Opened\n",
      "Data Base created\n"
     ]
    },
    {
     "ename": "OperationalError",
     "evalue": "no such table: EMPLOYEE1",
     "output_type": "error",
     "traceback": [
      "\u001b[1;31m---------------------------------------------------------------------------\u001b[0m",
      "\u001b[1;31mOperationalError\u001b[0m                          Traceback (most recent call last)",
      "\u001b[1;32m<ipython-input-1-a283e5538c82>\u001b[0m in \u001b[0;36m<module>\u001b[1;34m\u001b[0m\n\u001b[0;32m     31\u001b[0m     \u001b[0mprint\u001b[0m\u001b[1;33m(\u001b[0m\u001b[1;34m'record updated'\u001b[0m\u001b[1;33m)\u001b[0m\u001b[1;33m\u001b[0m\u001b[1;33m\u001b[0m\u001b[0m\n\u001b[0;32m     32\u001b[0m \u001b[1;33m\u001b[0m\u001b[0m\n\u001b[1;32m---> 33\u001b[1;33m \u001b[0mupdate_records\u001b[0m\u001b[1;33m(\u001b[0m\u001b[1;33m)\u001b[0m\u001b[1;33m\u001b[0m\u001b[1;33m\u001b[0m\u001b[0m\n\u001b[0m\u001b[0;32m     34\u001b[0m \u001b[1;33m\u001b[0m\u001b[0m\n\u001b[0;32m     35\u001b[0m \u001b[1;32mdef\u001b[0m \u001b[0mdelete_records\u001b[0m\u001b[1;33m(\u001b[0m\u001b[1;33m)\u001b[0m\u001b[1;33m:\u001b[0m\u001b[1;33m\u001b[0m\u001b[1;33m\u001b[0m\u001b[0m\n",
      "\u001b[1;32m<ipython-input-1-a283e5538c82>\u001b[0m in \u001b[0;36mupdate_records\u001b[1;34m()\u001b[0m\n\u001b[0;32m     27\u001b[0m \u001b[1;33m\u001b[0m\u001b[0m\n\u001b[0;32m     28\u001b[0m \u001b[1;32mdef\u001b[0m \u001b[0mupdate_records\u001b[0m\u001b[1;33m(\u001b[0m\u001b[1;33m)\u001b[0m\u001b[1;33m:\u001b[0m\u001b[1;33m\u001b[0m\u001b[1;33m\u001b[0m\u001b[0m\n\u001b[1;32m---> 29\u001b[1;33m     \u001b[0mcursor\u001b[0m\u001b[1;33m.\u001b[0m\u001b[0mexecute\u001b[0m\u001b[1;33m(\u001b[0m\u001b[1;34m''' UPDATE EMPLOYEE1 set AGE=30 WHERE ID=3'''\u001b[0m\u001b[1;33m)\u001b[0m \u001b[1;31m#we can perform any modify operations here\u001b[0m\u001b[1;33m\u001b[0m\u001b[1;33m\u001b[0m\u001b[0m\n\u001b[0m\u001b[0;32m     30\u001b[0m     \u001b[0mconn\u001b[0m\u001b[1;33m.\u001b[0m\u001b[0mcommit\u001b[0m\u001b[1;33m(\u001b[0m\u001b[1;33m)\u001b[0m\u001b[1;33m\u001b[0m\u001b[1;33m\u001b[0m\u001b[0m\n\u001b[0;32m     31\u001b[0m     \u001b[0mprint\u001b[0m\u001b[1;33m(\u001b[0m\u001b[1;34m'record updated'\u001b[0m\u001b[1;33m)\u001b[0m\u001b[1;33m\u001b[0m\u001b[1;33m\u001b[0m\u001b[0m\n",
      "\u001b[1;31mOperationalError\u001b[0m: no such table: EMPLOYEE1"
     ]
    }
   ],
   "source": [
    "import sqlite3\n",
    "\n",
    "conn = sqlite3.connect(\"xyz.db\")\n",
    "cursor = conn.cursor()  # to make run faster we use cursor() functions\n",
    "print(\"Data Base Opened\")\n",
    "#in SQL coloumns are called as 'FIELDS', row are called as 'RECORDS'\n",
    "#primary key = unique + not null\n",
    "#conn.execute(''' CREATE TABLE IF NOT EXISTS EMPLOYEE1( ID INT PRIMARY KEY NOT NULL,NAME TEXT UNIQUE NOT NULL,AGE AGE INT NOT NULL,SALARY INT NOT NULL)''')\n",
    "print(\"Data Base created\")\n",
    "\n",
    "##def insert_records(ID,NAME,AGE,SALARY):\n",
    "##    cursor.execute('''INSERT INTO EMPLOYEE1(ID,NAME,AGE,SALARY) VALUES(?,?,?,?)''',(ID,NAME,AGE,SALARY))\n",
    "##    conn.commit()\n",
    "##    print(\"record inserted\")\n",
    "\n",
    "def Display():\n",
    "    data=cursor.execute(\"SELECT * FROM EMPLOYEE1 \")\n",
    "\n",
    "    for record in data:\n",
    "        print('ID: ' +str(record[0]))\n",
    "        print('NAME: ' +str(record[1]))\n",
    "        print('AGE: ' +str(record[2]))\n",
    "        print('SALARY: ' +str(record[3]))\n",
    "    x = data.fetchall()\n",
    "\n",
    "    conn.commit()\n",
    "\n",
    "def update_records():\n",
    "    cursor.execute(''' UPDATE EMPLOYEE1 set AGE=30 WHERE ID=3''') #we can perform any modify operations here\n",
    "    conn.commit()\n",
    "    print('record updated')\n",
    "\n",
    "update_records()\n",
    "\n",
    "def delete_records():\n",
    "    cursor.execute('''DELETE from EMPLOYEE1 WHERE ID=7''') # once record delete it wont come back\n",
    "    conn.commit()\n",
    "    print('record deleted')\n",
    "\n",
    "delete_records()\n",
    "\n",
    "\n",
    "Display()\n",
    "\n",
    "#insert_records(7,'madhan',25,560000)\n",
    "conn.close()\n",
    "print(\"Database closed\")"
   ]
  },
  {
   "cell_type": "code",
   "execution_count": null,
   "id": "e681a765",
   "metadata": {},
   "outputs": [],
   "source": []
  }
 ],
 "metadata": {
  "kernelspec": {
   "display_name": "Python 3",
   "language": "python",
   "name": "python3"
  },
  "language_info": {
   "codemirror_mode": {
    "name": "ipython",
    "version": 3
   },
   "file_extension": ".py",
   "mimetype": "text/x-python",
   "name": "python",
   "nbconvert_exporter": "python",
   "pygments_lexer": "ipython3",
   "version": "3.8.8"
  }
 },
 "nbformat": 4,
 "nbformat_minor": 5
}
