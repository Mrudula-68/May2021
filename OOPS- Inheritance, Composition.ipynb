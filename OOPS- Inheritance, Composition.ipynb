{
 "cells": [
  {
   "cell_type": "code",
   "execution_count": 1,
   "id": "de313ee5",
   "metadata": {},
   "outputs": [],
   "source": [
    "# Inner Class:--> we can pass members of one class inside another.\n",
    "#Without existing outer class there is no chance of getting inner class."
   ]
  },
  {
   "cell_type": "code",
   "execution_count": 2,
   "id": "4a91708e",
   "metadata": {},
   "outputs": [
    {
     "data": {
      "text/plain": [
       "'\\nsyntax:\\n1. o = Outer()\\n   i = Inner()\\n   i.m1()\\n   \\n2. i = Outer().Inner()\\n   i.m1()\\n   \\n3. Outer().Inner().m1()\\n   \\n'"
      ]
     },
     "execution_count": 2,
     "metadata": {},
     "output_type": "execute_result"
    }
   ],
   "source": [
    "'''\n",
    "syntax:\n",
    "1. o = Outer()\n",
    "   i = Inner()\n",
    "   i.m1()\n",
    "   \n",
    "2. i = Outer().Inner()\n",
    "   i.m1()\n",
    "   \n",
    "3. Outer().Inner().m1()\n",
    "   \n",
    "'''"
   ]
  },
  {
   "cell_type": "code",
   "execution_count": 4,
   "id": "cb14e7cd",
   "metadata": {},
   "outputs": [
    {
     "name": "stdout",
     "output_type": "stream",
     "text": [
      "Hello.. Priyanka\n",
      "DOB is 28/6/1996\n"
     ]
    }
   ],
   "source": [
    "#example:\n",
    "\n",
    "class Person:\n",
    "    \n",
    "    def __init__(self):\n",
    "        \n",
    "        self.dob = self.Dob()\n",
    "        #self.address = self.Address()\n",
    "        \n",
    "    def Display(self):\n",
    "        self.name = \"Priyanka\"\n",
    "        print('Hello..', self.name)\n",
    "        \n",
    "    class Dob:\n",
    "        def __init__(self):\n",
    "            self.dd = 28\n",
    "            self.mm = 6\n",
    "            self.yy = 1996\n",
    "        def Display(self):\n",
    "            print('DOB is {}/{}/{}'.format(self.dd,self.mm,self.yy))\n",
    "            \n",
    "   # class Address:\n",
    "   #     def __init__(self):\n",
    "   #         self.city = 'Hyderabad'\n",
    "   #         self.country = 'India'\n",
    "   #     def Display(self):\n",
    "   #         print('Address is {},{}'.format(self.city,self.country))\n",
    "            \n",
    "p = Person()\n",
    "p.Display()\n",
    "a = p.dob\n",
    "a.Display()\n",
    "#Person.Dob.Display()\n",
    "#b = p.address\n",
    "#.Display()\n",
    "#Person.Address.Display()"
   ]
  },
  {
   "cell_type": "code",
   "execution_count": 5,
   "id": "562c218b",
   "metadata": {},
   "outputs": [
    {
     "name": "stdout",
     "output_type": "stream",
     "text": [
      "Employee Name: John\n",
      "employee number: 24\n",
      "Car Name:Audi, model:Q8, colour:Red\n"
     ]
    }
   ],
   "source": [
    "#Composition:-->by using class name or by creating object we can access members of one class inside\n",
    "# another class is called composition(Has-A relationship)\n",
    "#advantage is code reusability.\n",
    "\n",
    "#example:\n",
    "\n",
    "class Car:\n",
    "    def __init__(self,name,model,colour):\n",
    "        self.name = name\n",
    "        self.model = model\n",
    "        self.colour = colour\n",
    "        \n",
    "    def getinfo(self):\n",
    "        print(\"Car Name:{}, model:{}, colour:{}\".format(self.name,self.model,self.colour))\n",
    "        \n",
    "class Employee:\n",
    "    def __init__(self,ename,eno,car):\n",
    "        self.ename = ename\n",
    "        self.eno = eno\n",
    "        self.car = car\n",
    "        \n",
    "    def empinfo(self):\n",
    "        print(\"Employee Name:\",self.ename)\n",
    "        print(\"employee number:\",self.eno)\n",
    "        self.car.getinfo()\n",
    "        \n",
    "c = Car('Audi','Q8','Red')\n",
    "e = Employee('John',24,c)\n",
    "e.empinfo()"
   ]
  },
  {
   "cell_type": "code",
   "execution_count": 6,
   "id": "9b1f64ed",
   "metadata": {},
   "outputs": [],
   "source": [
    "#Inheritance:\n",
    "#variables,methods available in parent class by default available in child class\n",
    "#code Resuability\n",
    "#child class reference can call both parent class methods and child class methods"
   ]
  },
  {
   "cell_type": "code",
   "execution_count": 7,
   "id": "3ea15575",
   "metadata": {},
   "outputs": [
    {
     "data": {
      "text/plain": [
       "'\\nsyntax: childclass(parentclass)\\n'"
      ]
     },
     "execution_count": 7,
     "metadata": {},
     "output_type": "execute_result"
    }
   ],
   "source": [
    "'''\n",
    "syntax: childclass(parentclass)\n",
    "'''"
   ]
  },
  {
   "cell_type": "code",
   "execution_count": 8,
   "id": "fe38afe0",
   "metadata": {},
   "outputs": [
    {
     "name": "stdout",
     "output_type": "stream",
     "text": [
      "100 200 300\n",
      "parent instance method\n",
      "parent class method\n",
      "parent static method\n"
     ]
    }
   ],
   "source": [
    "#example1:\n",
    "class P:\n",
    "    a = 100\n",
    "    def __init__(self):\n",
    "        self.b = 200\n",
    "        \n",
    "    def m1(self):\n",
    "        print(\"parent instance method\")\n",
    "    @classmethod    \n",
    "    def m2(cls):\n",
    "        print(\"parent class method\")\n",
    "    @staticmethod\n",
    "    def m3():\n",
    "        print(\"parent static method\")\n",
    "        \n",
    "class C(P):\n",
    "    c = 300\n",
    "    \n",
    "c = C()\n",
    "print(c.a,c.b,c.c)\n",
    "c.m1()\n",
    "c.m2()\n",
    "c.m3()"
   ]
  },
  {
   "cell_type": "code",
   "execution_count": 9,
   "id": "6a36a534",
   "metadata": {},
   "outputs": [
    {
     "name": "stdout",
     "output_type": "stream",
     "text": [
      "Basic details of a software Employee\n",
      "Employee Name: Nikhil\n",
      "Employee Age: 25\n",
      "Employee number: 11\n",
      "Employee salary: 2500000\n"
     ]
    }
   ],
   "source": [
    "#example2:\n",
    "class Person:\n",
    "    def __init__(self,name,age):\n",
    "        self.name = name\n",
    "        self.age = age\n",
    "        \n",
    "    def m1(self):\n",
    "        print(\"Basic details of a software Employee\")\n",
    "        \n",
    "class Employee(Person):\n",
    "    def __init__(self,name,age,eno,esal):\n",
    "        super().__init__(name,age)     #we can use classname.variables here instead of super()  \n",
    "        self.eno = eno\n",
    "        self.esal = esal\n",
    "        \n",
    "    def empinfo(self):\n",
    "        print('Employee Name:',self.name)\n",
    "        print(\"Employee Age:\",self.age)\n",
    "        print(\"Employee number:\",self.eno)\n",
    "        print('Employee salary:',self.esal)\n",
    "        \n",
    "c = Employee(\"Nikhil\",25,11,2500000)\n",
    "c.m1()\n",
    "c.empinfo()"
   ]
  },
  {
   "cell_type": "code",
   "execution_count": null,
   "id": "6ede5503",
   "metadata": {},
   "outputs": [],
   "source": []
  }
 ],
 "metadata": {
  "kernelspec": {
   "display_name": "Python 3",
   "language": "python",
   "name": "python3"
  },
  "language_info": {
   "codemirror_mode": {
    "name": "ipython",
    "version": 3
   },
   "file_extension": ".py",
   "mimetype": "text/x-python",
   "name": "python",
   "nbconvert_exporter": "python",
   "pygments_lexer": "ipython3",
   "version": "3.8.8"
  }
 },
 "nbformat": 4,
 "nbformat_minor": 5
}
