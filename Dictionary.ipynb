{
 "cells": [
  {
   "cell_type": "code",
   "execution_count": 1,
   "id": "81f4cf71",
   "metadata": {},
   "outputs": [],
   "source": [
    "#Dictionaries\n",
    "#In python dictionaries are written with curly brackets and they have key value pairs"
   ]
  },
  {
   "cell_type": "code",
   "execution_count": 2,
   "id": "0ee10547",
   "metadata": {},
   "outputs": [],
   "source": [
    "# points\n",
    "# we can store different datatypes\n",
    "# order doesn't matter here\n",
    "# keys should be unique\n",
    "# mutable"
   ]
  },
  {
   "cell_type": "code",
   "execution_count": 3,
   "id": "97e32938",
   "metadata": {},
   "outputs": [],
   "source": [
    "dict1 = {\n",
    "    'Name': \"Rajesh\",\n",
    "    'age': 22,\n",
    "    'annual_income': 3000000,\n",
    "    'brother/sister': True\n",
    "}"
   ]
  },
  {
   "cell_type": "code",
   "execution_count": 4,
   "id": "0cc70192",
   "metadata": {},
   "outputs": [
    {
     "name": "stdout",
     "output_type": "stream",
     "text": [
      "{'Name': 'Rajesh', 'age': 22, 'annual_income': 3000000, 'brother/sister': True}\n"
     ]
    }
   ],
   "source": [
    "print(dict1)"
   ]
  },
  {
   "cell_type": "code",
   "execution_count": 5,
   "id": "ab0b6e9f",
   "metadata": {},
   "outputs": [
    {
     "data": {
      "text/plain": [
       "4"
      ]
     },
     "execution_count": 5,
     "metadata": {},
     "output_type": "execute_result"
    }
   ],
   "source": [
    "len(dict1)"
   ]
  },
  {
   "cell_type": "code",
   "execution_count": 6,
   "id": "436213c0",
   "metadata": {},
   "outputs": [],
   "source": [
    "#Accessing elements using the keys"
   ]
  },
  {
   "cell_type": "code",
   "execution_count": 7,
   "id": "0b9db32f",
   "metadata": {},
   "outputs": [],
   "source": [
    "# 1 accessing person name\n",
    "x = dict1['Name']"
   ]
  },
  {
   "cell_type": "code",
   "execution_count": 8,
   "id": "364986a5",
   "metadata": {},
   "outputs": [
    {
     "data": {
      "text/plain": [
       "'Rajesh'"
      ]
     },
     "execution_count": 8,
     "metadata": {},
     "output_type": "execute_result"
    }
   ],
   "source": [
    "x"
   ]
  },
  {
   "cell_type": "code",
   "execution_count": 9,
   "id": "71355eb2",
   "metadata": {},
   "outputs": [
    {
     "data": {
      "text/plain": [
       "22"
      ]
     },
     "execution_count": 9,
     "metadata": {},
     "output_type": "execute_result"
    }
   ],
   "source": [
    "# accessing elements using the .get(keyname)method\n",
    "\n",
    "x = dict1.get('age')\n",
    "x"
   ]
  },
  {
   "cell_type": "code",
   "execution_count": 10,
   "id": "67cbf526",
   "metadata": {},
   "outputs": [
    {
     "data": {
      "text/plain": [
       "{'Name': 'Rajesh', 'age': 24, 'annual_income': 3000000, 'brother/sister': True}"
      ]
     },
     "execution_count": 10,
     "metadata": {},
     "output_type": "execute_result"
    }
   ],
   "source": [
    "# change or update any values\n",
    "# update rajesh age\n",
    "\n",
    "dict1['age'] = 24\n",
    "dict1"
   ]
  },
  {
   "cell_type": "code",
   "execution_count": 11,
   "id": "5f6c7f70",
   "metadata": {},
   "outputs": [
    {
     "name": "stdout",
     "output_type": "stream",
     "text": [
      "['Name', 'age', 'annual_income', 'brother/sister']\n"
     ]
    }
   ],
   "source": [
    "# keys() method to get the keys of your dictionary\n",
    "\n",
    "keys = list(dict1.keys())\n",
    "print(keys)"
   ]
  },
  {
   "cell_type": "code",
   "execution_count": 12,
   "id": "25553ee6",
   "metadata": {},
   "outputs": [
    {
     "data": {
      "text/plain": [
       "True"
      ]
     },
     "execution_count": 12,
     "metadata": {},
     "output_type": "execute_result"
    }
   ],
   "source": [
    "dict1.get('brother/sister')"
   ]
  },
  {
   "cell_type": "code",
   "execution_count": 13,
   "id": "3047d05a",
   "metadata": {},
   "outputs": [
    {
     "name": "stdout",
     "output_type": "stream",
     "text": [
      "['Rajesh', 24, 3000000, True]\n"
     ]
    }
   ],
   "source": [
    "# get values of a particular dictionary using the values() method\n",
    "\n",
    "vals = list(dict1.values())\n",
    "print(vals)"
   ]
  },
  {
   "cell_type": "code",
   "execution_count": 14,
   "id": "ed09725f",
   "metadata": {},
   "outputs": [
    {
     "name": "stdout",
     "output_type": "stream",
     "text": [
      "[('Name', 'Rajesh'), ('age', 24), ('annual_income', 3000000), ('brother/sister', True)]\n"
     ]
    }
   ],
   "source": [
    "# the items() method will fetch you both keys and values\n",
    "\n",
    "items = list(dict1.items())\n",
    "print(items)"
   ]
  },
  {
   "cell_type": "code",
   "execution_count": 15,
   "id": "79e2cef6",
   "metadata": {},
   "outputs": [],
   "source": [
    "#Adding items to an existing dictionary"
   ]
  },
  {
   "cell_type": "code",
   "execution_count": 16,
   "id": "cfddb30d",
   "metadata": {},
   "outputs": [],
   "source": [
    "#adding the experience\n",
    "dict1['Experience'] = 2"
   ]
  },
  {
   "cell_type": "code",
   "execution_count": 17,
   "id": "dd579070",
   "metadata": {},
   "outputs": [
    {
     "data": {
      "text/plain": [
       "{'Name': 'Rajesh',\n",
       " 'age': 24,\n",
       " 'annual_income': 3000000,\n",
       " 'brother/sister': True,\n",
       " 'Experience': 2}"
      ]
     },
     "execution_count": 17,
     "metadata": {},
     "output_type": "execute_result"
    }
   ],
   "source": [
    "dict1"
   ]
  },
  {
   "cell_type": "code",
   "execution_count": 18,
   "id": "b774e991",
   "metadata": {},
   "outputs": [],
   "source": [
    "# add the role\n",
    "\n",
    "dict1['Role'] = 'Full Stack Developer'"
   ]
  },
  {
   "cell_type": "code",
   "execution_count": 19,
   "id": "c2002a0e",
   "metadata": {},
   "outputs": [],
   "source": [
    "dict1['Name'] = 'Rajesh'"
   ]
  },
  {
   "cell_type": "code",
   "execution_count": 20,
   "id": "c3bb6bf5",
   "metadata": {},
   "outputs": [
    {
     "data": {
      "text/plain": [
       "{'age': 24,\n",
       " 'annual_income': 3000000,\n",
       " 'brother/sister': True,\n",
       " 'Experience': 2,\n",
       " 'Role': 'Full Stack Developer'}"
      ]
     },
     "execution_count": 20,
     "metadata": {},
     "output_type": "execute_result"
    }
   ],
   "source": [
    "dict1.pop('Name')\n",
    "dict1"
   ]
  },
  {
   "cell_type": "code",
   "execution_count": 21,
   "id": "6a37d9c9",
   "metadata": {},
   "outputs": [
    {
     "data": {
      "text/plain": [
       "{'age': 24,\n",
       " 'annual_income': 3000000,\n",
       " 'brother/sister': True,\n",
       " 'Experience': 2,\n",
       " 'Role': 'Full Stack Developer',\n",
       " 'Name': 'Rajesh'}"
      ]
     },
     "execution_count": 21,
     "metadata": {},
     "output_type": "execute_result"
    }
   ],
   "source": [
    "dict1['Name'] = 'Rajesh'\n",
    "dict1"
   ]
  },
  {
   "cell_type": "code",
   "execution_count": 22,
   "id": "8764a8ad",
   "metadata": {},
   "outputs": [],
   "source": [
    "# removing the key using the del function \n",
    "\n",
    "del dict1['Name']"
   ]
  },
  {
   "cell_type": "code",
   "execution_count": 23,
   "id": "01c96d31",
   "metadata": {},
   "outputs": [
    {
     "data": {
      "text/plain": [
       "{'age': 24,\n",
       " 'annual_income': 3000000,\n",
       " 'brother/sister': True,\n",
       " 'Experience': 2,\n",
       " 'Role': 'Full Stack Developer'}"
      ]
     },
     "execution_count": 23,
     "metadata": {},
     "output_type": "execute_result"
    }
   ],
   "source": [
    "dict1"
   ]
  },
  {
   "cell_type": "code",
   "execution_count": 24,
   "id": "fa1e46b7",
   "metadata": {},
   "outputs": [
    {
     "name": "stdout",
     "output_type": "stream",
     "text": [
      "{'age': 24, 'annual_income': 3000000, 'brother/sister': True, 'Experience': 2}\n"
     ]
    }
   ],
   "source": [
    "# popitem() removes the last inserted item\n",
    "\n",
    "dict1.popitem()\n",
    "print(dict1)"
   ]
  },
  {
   "cell_type": "code",
   "execution_count": 25,
   "id": "b7936a13",
   "metadata": {},
   "outputs": [],
   "source": [
    "dict2 = dict1.copy()"
   ]
  },
  {
   "cell_type": "code",
   "execution_count": 26,
   "id": "b37b1553",
   "metadata": {},
   "outputs": [
    {
     "data": {
      "text/plain": [
       "{}"
      ]
     },
     "execution_count": 26,
     "metadata": {},
     "output_type": "execute_result"
    }
   ],
   "source": [
    "dict1.clear()\n",
    "dict1"
   ]
  },
  {
   "cell_type": "code",
   "execution_count": 27,
   "id": "3ec646af",
   "metadata": {},
   "outputs": [],
   "source": [
    "# inserting multiple values for a key\n",
    "dict2['annual_income'] = [3000000, 2500000, 34000000]"
   ]
  },
  {
   "cell_type": "code",
   "execution_count": 28,
   "id": "43e2eb9b",
   "metadata": {},
   "outputs": [
    {
     "name": "stdout",
     "output_type": "stream",
     "text": [
      "{'age': 24, 'annual_income': [3000000, 2500000, 34000000], 'brother/sister': True, 'Experience': 2}\n"
     ]
    }
   ],
   "source": [
    "print(dict2)"
   ]
  },
  {
   "cell_type": "code",
   "execution_count": 29,
   "id": "d0d6561b",
   "metadata": {},
   "outputs": [],
   "source": [
    "#Nested Dictionary"
   ]
  },
  {
   "cell_type": "code",
   "execution_count": 30,
   "id": "cfbddda4",
   "metadata": {},
   "outputs": [],
   "source": [
    "person1 = {'Name': 'Rahul',\n",
    "          'year': 1998}\n",
    "\n",
    "person2 = {'Name': 'Rajesh',\n",
    "          'year': 1997}\n",
    "\n",
    "dict3 = {\n",
    "    \n",
    "\"1st person\": person1,\n",
    "    \"2nd person\": person2\n",
    "}"
   ]
  },
  {
   "cell_type": "code",
   "execution_count": 31,
   "id": "ddb50fea",
   "metadata": {},
   "outputs": [
    {
     "data": {
      "text/plain": [
       "{'1st person': {'Name': 'Rahul', 'year': 1998},\n",
       " '2nd person': {'Name': 'Rajesh', 'year': 1997}}"
      ]
     },
     "execution_count": 31,
     "metadata": {},
     "output_type": "execute_result"
    }
   ],
   "source": [
    "dict3"
   ]
  },
  {
   "cell_type": "code",
   "execution_count": 32,
   "id": "92b5d761",
   "metadata": {},
   "outputs": [
    {
     "name": "stdout",
     "output_type": "stream",
     "text": [
      "{'1st person': {'Name': 'Rahul', 'year': 1998, 'profession': ['python developer', 'ml engineer', 'java developer', 'data scientist']}, '2nd person': {'Name': 'Rajesh', 'year': 1997, 'profession': ['nlp engineer', 'computer vision engineer']}}\n"
     ]
    }
   ],
   "source": [
    "dict4 = {\n",
    "    '1st person': {'Name': 'Rahul',\n",
    "          'year': 1998,\n",
    "                  \n",
    "            'profession': ['python developer', 'ml engineer','java developer','data scientist']},\n",
    "    \n",
    "      '2nd person':  {'Name': 'Rajesh',\n",
    "          'year': 1997,\n",
    "                     \n",
    "        'profession': ['nlp engineer','computer vision engineer']}\n",
    "          \n",
    "}\n",
    "print(dict4)"
   ]
  },
  {
   "cell_type": "code",
   "execution_count": 33,
   "id": "472797df",
   "metadata": {},
   "outputs": [
    {
     "data": {
      "text/plain": [
       "{'Name': 'Rahul',\n",
       " 'year': 1998,\n",
       " 'profession': ['python developer',\n",
       "  'ml engineer',\n",
       "  'java developer',\n",
       "  'data scientist']}"
      ]
     },
     "execution_count": 33,
     "metadata": {},
     "output_type": "execute_result"
    }
   ],
   "source": [
    "dict4['1st person']"
   ]
  },
  {
   "cell_type": "code",
   "execution_count": 34,
   "id": "88ddbfe9",
   "metadata": {},
   "outputs": [
    {
     "data": {
      "text/plain": [
       "'Rahul'"
      ]
     },
     "execution_count": 34,
     "metadata": {},
     "output_type": "execute_result"
    }
   ],
   "source": [
    "# accessing the name of 1st person\n",
    "\n",
    "dict4['1st person']['Name']"
   ]
  },
  {
   "cell_type": "code",
   "execution_count": 35,
   "id": "ae141c96",
   "metadata": {},
   "outputs": [
    {
     "data": {
      "text/plain": [
       "['nlp engineer', 'computer vision engineer']"
      ]
     },
     "execution_count": 35,
     "metadata": {},
     "output_type": "execute_result"
    }
   ],
   "source": [
    "# accessing the profession of 2nd person\n",
    "\n",
    "dict4['2nd person']['profession']"
   ]
  },
  {
   "cell_type": "code",
   "execution_count": 36,
   "id": "5eaa0a70",
   "metadata": {},
   "outputs": [
    {
     "data": {
      "text/plain": [
       "['python developer', 'java developer']"
      ]
     },
     "execution_count": 36,
     "metadata": {},
     "output_type": "execute_result"
    }
   ],
   "source": [
    "dict4['1st person']['profession'][0::2]"
   ]
  },
  {
   "cell_type": "code",
   "execution_count": 37,
   "id": "a2d4c5ff",
   "metadata": {},
   "outputs": [
    {
     "data": {
      "text/plain": [
       "['python developer', 'ml engineer', 'java developer']"
      ]
     },
     "execution_count": 37,
     "metadata": {},
     "output_type": "execute_result"
    }
   ],
   "source": [
    "dict4['1st person']['profession'][0:3]"
   ]
  },
  {
   "cell_type": "code",
   "execution_count": 38,
   "id": "ce9dfb17",
   "metadata": {},
   "outputs": [],
   "source": [
    "dict5 = {\n",
    "    'may_batch':{\n",
    "        'Student':{\n",
    "            \"Name\": \"Mike\",\n",
    "            \"marks\":{\n",
    "            'python': 95,\n",
    "            'math': 88,\n",
    "            'full stack' : 90\n",
    "            }\n",
    "     }\n",
    "    }\n",
    "}"
   ]
  },
  {
   "cell_type": "code",
   "execution_count": 39,
   "id": "5df263a8",
   "metadata": {},
   "outputs": [
    {
     "data": {
      "text/plain": [
       "{'may_batch': {'Student': {'Name': 'Mike',\n",
       "   'marks': {'python': 95, 'math': 88, 'full stack': 90}}}}"
      ]
     },
     "execution_count": 39,
     "metadata": {},
     "output_type": "execute_result"
    }
   ],
   "source": [
    "dict5"
   ]
  },
  {
   "cell_type": "code",
   "execution_count": null,
   "id": "6fd33c9c",
   "metadata": {},
   "outputs": [],
   "source": [
    "# In the above dictionary\n",
    "\n",
    "# 1. Access Name Mike\n",
    "# 2. Access the value 88 or marks scored in math\n",
    "# 3. Change the name mike to your name\n",
    "# 4. Add Science = 80 , English = 93"
   ]
  }
 ],
 "metadata": {
  "kernelspec": {
   "display_name": "Python 3",
   "language": "python",
   "name": "python3"
  },
  "language_info": {
   "codemirror_mode": {
    "name": "ipython",
    "version": 3
   },
   "file_extension": ".py",
   "mimetype": "text/x-python",
   "name": "python",
   "nbconvert_exporter": "python",
   "pygments_lexer": "ipython3",
   "version": "3.8.8"
  }
 },
 "nbformat": 4,
 "nbformat_minor": 5
}
